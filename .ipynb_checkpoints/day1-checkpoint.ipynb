{
 "cells": [
  {
   "cell_type": "code",
   "execution_count": 2,
   "id": "4900943f",
   "metadata": {},
   "outputs": [],
   "source": [
    "dict={'a':'one','b':'two','c':3} "
   ]
  },
  {
   "cell_type": "code",
   "execution_count": 3,
   "id": "2372d0fd",
   "metadata": {},
   "outputs": [
    {
     "name": "stdout",
     "output_type": "stream",
     "text": [
      "one\n"
     ]
    }
   ],
   "source": [
    "print(dict['a'])"
   ]
  },
  {
   "cell_type": "markdown",
   "id": "f2e008b4",
   "metadata": {},
   "source": [
    "# Converting Dictionary to Series"
   ]
  },
  {
   "cell_type": "markdown",
   "id": "020dba18",
   "metadata": {},
   "source": [
    "### Importing Series and Pandas"
   ]
  },
  {
   "cell_type": "code",
   "execution_count": 4,
   "id": "b712a298",
   "metadata": {},
   "outputs": [],
   "source": [
    "from pandas import Series"
   ]
  },
  {
   "cell_type": "code",
   "execution_count": 5,
   "id": "f9c4acd3",
   "metadata": {},
   "outputs": [],
   "source": [
    "ser = Series(dict)"
   ]
  },
  {
   "cell_type": "raw",
   "id": "1b855918",
   "metadata": {},
   "source": [
    "print(ser)"
   ]
  },
  {
   "cell_type": "code",
   "execution_count": 7,
   "id": "d352b135",
   "metadata": {},
   "outputs": [
    {
     "data": {
      "text/plain": [
       "'one'"
      ]
     },
     "execution_count": 7,
     "metadata": {},
     "output_type": "execute_result"
    }
   ],
   "source": [
    "ser['a']"
   ]
  },
  {
   "cell_type": "markdown",
   "id": "dc096280",
   "metadata": {},
   "source": [
    "# Practice"
   ]
  },
  {
   "cell_type": "markdown",
   "id": "94852930",
   "metadata": {},
   "source": [
    "##### Create dictionary of 5 elements and convert it into series and print the 4th value"
   ]
  },
  {
   "cell_type": "code",
   "execution_count": 8,
   "id": "e25bfe0f",
   "metadata": {},
   "outputs": [],
   "source": [
    "dictP = {'a':'one','b':'two','c':'three','d':'four','e':'five'}"
   ]
  },
  {
   "cell_type": "code",
   "execution_count": 9,
   "id": "b1e5aed2",
   "metadata": {},
   "outputs": [
    {
     "data": {
      "text/plain": [
       "{'a': 'one', 'b': 'two', 'c': 'three', 'd': 'four', 'e': 'five'}"
      ]
     },
     "execution_count": 9,
     "metadata": {},
     "output_type": "execute_result"
    }
   ],
   "source": [
    "dictP"
   ]
  },
  {
   "cell_type": "code",
   "execution_count": 10,
   "id": "8a379a97",
   "metadata": {},
   "outputs": [],
   "source": [
    "cvse = Series(dictP)"
   ]
  },
  {
   "cell_type": "code",
   "execution_count": 11,
   "id": "dd9ee567",
   "metadata": {},
   "outputs": [
    {
     "data": {
      "text/plain": [
       "a      one\n",
       "b      two\n",
       "c    three\n",
       "d     four\n",
       "e     five\n",
       "dtype: object"
      ]
     },
     "execution_count": 11,
     "metadata": {},
     "output_type": "execute_result"
    }
   ],
   "source": [
    "cvse"
   ]
  },
  {
   "cell_type": "code",
   "execution_count": 12,
   "id": "6e9baf02",
   "metadata": {},
   "outputs": [
    {
     "data": {
      "text/plain": [
       "'four'"
      ]
     },
     "execution_count": 12,
     "metadata": {},
     "output_type": "execute_result"
    }
   ],
   "source": [
    "cvse['d']"
   ]
  }
 ],
 "metadata": {
  "kernelspec": {
   "display_name": "Python 3 (ipykernel)",
   "language": "python",
   "name": "python3"
  },
  "language_info": {
   "codemirror_mode": {
    "name": "ipython",
    "version": 3
   },
   "file_extension": ".py",
   "mimetype": "text/x-python",
   "name": "python",
   "nbconvert_exporter": "python",
   "pygments_lexer": "ipython3",
   "version": "3.10.9"
  }
 },
 "nbformat": 4,
 "nbformat_minor": 5
}
