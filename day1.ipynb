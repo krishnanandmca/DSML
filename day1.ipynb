{
 "cells": [
  {
   "cell_type": "code",
   "execution_count": 58,
   "id": "29968233",
   "metadata": {},
   "outputs": [],
   "source": [
    "dict={'a':'one','b':'two','c':3} "
   ]
  },
  {
   "cell_type": "code",
   "execution_count": 59,
   "id": "947349f1",
   "metadata": {},
   "outputs": [
    {
     "name": "stdout",
     "output_type": "stream",
     "text": [
      "one\n"
     ]
    }
   ],
   "source": [
    "print(dict['a'])"
   ]
  },
  {
   "cell_type": "markdown",
   "id": "a3e5677b",
   "metadata": {},
   "source": [
    "# Converting Dictionary to Series"
   ]
  },
  {
   "cell_type": "markdown",
   "id": "87a92b5e",
   "metadata": {},
   "source": [
    "### Importing Series and Pandas"
   ]
  },
  {
   "cell_type": "code",
   "execution_count": 60,
   "id": "6287b1f1",
   "metadata": {},
   "outputs": [],
   "source": [
    "from pandas import Series"
   ]
  },
  {
   "cell_type": "code",
   "execution_count": 61,
   "id": "6c791331",
   "metadata": {},
   "outputs": [],
   "source": [
    "ser = Series(dict)"
   ]
  },
  {
   "cell_type": "raw",
   "id": "80c02c11",
   "metadata": {},
   "source": [
    "print(ser)"
   ]
  },
  {
   "cell_type": "code",
   "execution_count": 62,
   "id": "fc35e6c7",
   "metadata": {},
   "outputs": [
    {
     "data": {
      "text/plain": [
       "'one'"
      ]
     },
     "execution_count": 62,
     "metadata": {},
     "output_type": "execute_result"
    }
   ],
   "source": [
    "ser['a']"
   ]
  },
  {
   "cell_type": "markdown",
   "id": "8b6b8294",
   "metadata": {},
   "source": [
    "# Practice"
   ]
  },
  {
   "cell_type": "markdown",
   "id": "0f60b03a",
   "metadata": {},
   "source": [
    "##### Create dictionary of 5 elements and convert it into series and print the 4th value"
   ]
  },
  {
   "cell_type": "code",
   "execution_count": 63,
   "id": "3593ef12",
   "metadata": {},
   "outputs": [],
   "source": [
    "dictP = {'a':'one','b':'two','c':'three','d':'four','e':'five'}"
   ]
  },
  {
   "cell_type": "code",
   "execution_count": 64,
   "id": "f04b4a15",
   "metadata": {},
   "outputs": [
    {
     "data": {
      "text/plain": [
       "{'a': 'one', 'b': 'two', 'c': 'three', 'd': 'four', 'e': 'five'}"
      ]
     },
     "execution_count": 64,
     "metadata": {},
     "output_type": "execute_result"
    }
   ],
   "source": [
    "dictP"
   ]
  },
  {
   "cell_type": "code",
   "execution_count": 65,
   "id": "610a2fbf",
   "metadata": {},
   "outputs": [],
   "source": [
    "cvse = Series(dictP)"
   ]
  },
  {
   "cell_type": "code",
   "execution_count": 66,
   "id": "b1785c4f",
   "metadata": {},
   "outputs": [
    {
     "data": {
      "text/plain": [
       "a      one\n",
       "b      two\n",
       "c    three\n",
       "d     four\n",
       "e     five\n",
       "dtype: object"
      ]
     },
     "execution_count": 66,
     "metadata": {},
     "output_type": "execute_result"
    }
   ],
   "source": [
    "cvse"
   ]
  },
  {
   "cell_type": "code",
   "execution_count": 67,
   "id": "9cba948c",
   "metadata": {},
   "outputs": [
    {
     "data": {
      "text/plain": [
       "'four'"
      ]
     },
     "execution_count": 67,
     "metadata": {},
     "output_type": "execute_result"
    }
   ],
   "source": [
    "cvse['d']"
   ]
  },
  {
   "cell_type": "markdown",
   "id": "47135478",
   "metadata": {},
   "source": [
    "# Converting dictionary to dataframe"
   ]
  },
  {
   "cell_type": "markdown",
   "id": "9b3877dc",
   "metadata": {},
   "source": [
    "# Data Frame"
   ]
  },
  {
   "cell_type": "markdown",
   "id": "8453efb7",
   "metadata": {},
   "source": [
    "### Importing DataFrame"
   ]
  },
  {
   "cell_type": "code",
   "execution_count": 68,
   "id": "274c69b1",
   "metadata": {},
   "outputs": [],
   "source": [
    "from pandas import DataFrame"
   ]
  },
  {
   "cell_type": "code",
   "execution_count": 69,
   "id": "9f9084d4",
   "metadata": {},
   "outputs": [],
   "source": [
    "dictDf = {'name':['ay','mn','as'],\n",
    "         'age':['21','22','21'],\n",
    "         'sal':['10000','12000','20000']}"
   ]
  },
  {
   "cell_type": "code",
   "execution_count": 70,
   "id": "2f7ff952",
   "metadata": {},
   "outputs": [
    {
     "data": {
      "text/plain": [
       "{'name': ['ay', 'mn', 'as'],\n",
       " 'age': ['21', '22', '21'],\n",
       " 'sal': ['10000', '12000', '20000']}"
      ]
     },
     "execution_count": 70,
     "metadata": {},
     "output_type": "execute_result"
    }
   ],
   "source": [
    "dictDf"
   ]
  },
  {
   "cell_type": "code",
   "execution_count": 71,
   "id": "304d91b1",
   "metadata": {},
   "outputs": [],
   "source": [
    "cvDf = DataFrame(dictDf)"
   ]
  },
  {
   "cell_type": "code",
   "execution_count": 72,
   "id": "800af939",
   "metadata": {},
   "outputs": [
    {
     "data": {
      "text/html": [
       "<div>\n",
       "<style scoped>\n",
       "    .dataframe tbody tr th:only-of-type {\n",
       "        vertical-align: middle;\n",
       "    }\n",
       "\n",
       "    .dataframe tbody tr th {\n",
       "        vertical-align: top;\n",
       "    }\n",
       "\n",
       "    .dataframe thead th {\n",
       "        text-align: right;\n",
       "    }\n",
       "</style>\n",
       "<table border=\"1\" class=\"dataframe\">\n",
       "  <thead>\n",
       "    <tr style=\"text-align: right;\">\n",
       "      <th></th>\n",
       "      <th>name</th>\n",
       "      <th>age</th>\n",
       "      <th>sal</th>\n",
       "    </tr>\n",
       "  </thead>\n",
       "  <tbody>\n",
       "    <tr>\n",
       "      <th>0</th>\n",
       "      <td>ay</td>\n",
       "      <td>21</td>\n",
       "      <td>10000</td>\n",
       "    </tr>\n",
       "    <tr>\n",
       "      <th>1</th>\n",
       "      <td>mn</td>\n",
       "      <td>22</td>\n",
       "      <td>12000</td>\n",
       "    </tr>\n",
       "    <tr>\n",
       "      <th>2</th>\n",
       "      <td>as</td>\n",
       "      <td>21</td>\n",
       "      <td>20000</td>\n",
       "    </tr>\n",
       "  </tbody>\n",
       "</table>\n",
       "</div>"
      ],
      "text/plain": [
       "  name age    sal\n",
       "0   ay  21  10000\n",
       "1   mn  22  12000\n",
       "2   as  21  20000"
      ]
     },
     "execution_count": 72,
     "metadata": {},
     "output_type": "execute_result"
    }
   ],
   "source": [
    "cvDf"
   ]
  },
  {
   "cell_type": "markdown",
   "id": "1bce15fb",
   "metadata": {},
   "source": [
    "# Rearranging columns\n",
    "\n"
   ]
  },
  {
   "cell_type": "markdown",
   "id": "a0203a9d",
   "metadata": {},
   "source": [
    "### Syntax\n",
    "####  DataFrame(var,columns=[\"order of keys\"])"
   ]
  },
  {
   "cell_type": "code",
   "execution_count": 73,
   "id": "ec8acae3",
   "metadata": {},
   "outputs": [],
   "source": [
    "ordF = DataFrame(dictDf,columns=['age','sal','name'])"
   ]
  },
  {
   "cell_type": "code",
   "execution_count": 74,
   "id": "6772542d",
   "metadata": {},
   "outputs": [
    {
     "data": {
      "text/html": [
       "<div>\n",
       "<style scoped>\n",
       "    .dataframe tbody tr th:only-of-type {\n",
       "        vertical-align: middle;\n",
       "    }\n",
       "\n",
       "    .dataframe tbody tr th {\n",
       "        vertical-align: top;\n",
       "    }\n",
       "\n",
       "    .dataframe thead th {\n",
       "        text-align: right;\n",
       "    }\n",
       "</style>\n",
       "<table border=\"1\" class=\"dataframe\">\n",
       "  <thead>\n",
       "    <tr style=\"text-align: right;\">\n",
       "      <th></th>\n",
       "      <th>age</th>\n",
       "      <th>sal</th>\n",
       "      <th>name</th>\n",
       "    </tr>\n",
       "  </thead>\n",
       "  <tbody>\n",
       "    <tr>\n",
       "      <th>0</th>\n",
       "      <td>21</td>\n",
       "      <td>10000</td>\n",
       "      <td>ay</td>\n",
       "    </tr>\n",
       "    <tr>\n",
       "      <th>1</th>\n",
       "      <td>22</td>\n",
       "      <td>12000</td>\n",
       "      <td>mn</td>\n",
       "    </tr>\n",
       "    <tr>\n",
       "      <th>2</th>\n",
       "      <td>21</td>\n",
       "      <td>20000</td>\n",
       "      <td>as</td>\n",
       "    </tr>\n",
       "  </tbody>\n",
       "</table>\n",
       "</div>"
      ],
      "text/plain": [
       "  age    sal name\n",
       "0  21  10000   ay\n",
       "1  22  12000   mn\n",
       "2  21  20000   as"
      ]
     },
     "execution_count": 74,
     "metadata": {},
     "output_type": "execute_result"
    }
   ],
   "source": [
    "ordF"
   ]
  },
  {
   "cell_type": "markdown",
   "id": "f34372ad",
   "metadata": {},
   "source": [
    "### Adding new column"
   ]
  },
  {
   "cell_type": "code",
   "execution_count": 75,
   "id": "74e135f4",
   "metadata": {},
   "outputs": [],
   "source": [
    "addCol = DataFrame(dictDf,columns=['age','sal','name','ph.no'])"
   ]
  },
  {
   "cell_type": "code",
   "execution_count": 76,
   "id": "8bcad2c1",
   "metadata": {},
   "outputs": [
    {
     "data": {
      "text/html": [
       "<div>\n",
       "<style scoped>\n",
       "    .dataframe tbody tr th:only-of-type {\n",
       "        vertical-align: middle;\n",
       "    }\n",
       "\n",
       "    .dataframe tbody tr th {\n",
       "        vertical-align: top;\n",
       "    }\n",
       "\n",
       "    .dataframe thead th {\n",
       "        text-align: right;\n",
       "    }\n",
       "</style>\n",
       "<table border=\"1\" class=\"dataframe\">\n",
       "  <thead>\n",
       "    <tr style=\"text-align: right;\">\n",
       "      <th></th>\n",
       "      <th>age</th>\n",
       "      <th>sal</th>\n",
       "      <th>name</th>\n",
       "      <th>ph.no</th>\n",
       "    </tr>\n",
       "  </thead>\n",
       "  <tbody>\n",
       "    <tr>\n",
       "      <th>0</th>\n",
       "      <td>21</td>\n",
       "      <td>10000</td>\n",
       "      <td>ay</td>\n",
       "      <td>NaN</td>\n",
       "    </tr>\n",
       "    <tr>\n",
       "      <th>1</th>\n",
       "      <td>22</td>\n",
       "      <td>12000</td>\n",
       "      <td>mn</td>\n",
       "      <td>NaN</td>\n",
       "    </tr>\n",
       "    <tr>\n",
       "      <th>2</th>\n",
       "      <td>21</td>\n",
       "      <td>20000</td>\n",
       "      <td>as</td>\n",
       "      <td>NaN</td>\n",
       "    </tr>\n",
       "  </tbody>\n",
       "</table>\n",
       "</div>"
      ],
      "text/plain": [
       "  age    sal name ph.no\n",
       "0  21  10000   ay   NaN\n",
       "1  22  12000   mn   NaN\n",
       "2  21  20000   as   NaN"
      ]
     },
     "execution_count": 76,
     "metadata": {},
     "output_type": "execute_result"
    }
   ],
   "source": [
    "addCol"
   ]
  },
  {
   "cell_type": "markdown",
   "id": "d551ec71",
   "metadata": {},
   "source": [
    "### Accessing a particular column"
   ]
  },
  {
   "cell_type": "code",
   "execution_count": 77,
   "id": "dd944c96",
   "metadata": {},
   "outputs": [
    {
     "data": {
      "text/plain": [
       "0    ay\n",
       "1    mn\n",
       "2    as\n",
       "Name: name, dtype: object"
      ]
     },
     "execution_count": 77,
     "metadata": {},
     "output_type": "execute_result"
    }
   ],
   "source": [
    "addCol['name']"
   ]
  },
  {
   "cell_type": "markdown",
   "id": "2ea82441",
   "metadata": {},
   "source": [
    "### ix - get row of x direction"
   ]
  },
  {
   "cell_type": "code",
   "execution_count": 78,
   "id": "58bbb50a",
   "metadata": {},
   "outputs": [],
   "source": [
    "#addCol.ix[2]"
   ]
  },
  {
   "cell_type": "markdown",
   "id": "c233dd0b",
   "metadata": {},
   "source": [
    "### iloc - get specific row"
   ]
  },
  {
   "cell_type": "code",
   "execution_count": 79,
   "id": "c3a4700d",
   "metadata": {},
   "outputs": [
    {
     "data": {
      "text/plain": [
       "age         21\n",
       "sal      20000\n",
       "name        as\n",
       "ph.no      NaN\n",
       "Name: 2, dtype: object"
      ]
     },
     "execution_count": 79,
     "metadata": {},
     "output_type": "execute_result"
    }
   ],
   "source": [
    "addCol.iloc[2]"
   ]
  },
  {
   "cell_type": "markdown",
   "id": "b32991fa",
   "metadata": {},
   "source": [
    "### Transpose"
   ]
  },
  {
   "cell_type": "code",
   "execution_count": 80,
   "id": "6e3ba878",
   "metadata": {},
   "outputs": [],
   "source": [
    "addCol = addCol.T"
   ]
  },
  {
   "cell_type": "code",
   "execution_count": 81,
   "id": "38dae47f",
   "metadata": {},
   "outputs": [
    {
     "data": {
      "text/html": [
       "<div>\n",
       "<style scoped>\n",
       "    .dataframe tbody tr th:only-of-type {\n",
       "        vertical-align: middle;\n",
       "    }\n",
       "\n",
       "    .dataframe tbody tr th {\n",
       "        vertical-align: top;\n",
       "    }\n",
       "\n",
       "    .dataframe thead th {\n",
       "        text-align: right;\n",
       "    }\n",
       "</style>\n",
       "<table border=\"1\" class=\"dataframe\">\n",
       "  <thead>\n",
       "    <tr style=\"text-align: right;\">\n",
       "      <th></th>\n",
       "      <th>0</th>\n",
       "      <th>1</th>\n",
       "      <th>2</th>\n",
       "    </tr>\n",
       "  </thead>\n",
       "  <tbody>\n",
       "    <tr>\n",
       "      <th>age</th>\n",
       "      <td>21</td>\n",
       "      <td>22</td>\n",
       "      <td>21</td>\n",
       "    </tr>\n",
       "    <tr>\n",
       "      <th>sal</th>\n",
       "      <td>10000</td>\n",
       "      <td>12000</td>\n",
       "      <td>20000</td>\n",
       "    </tr>\n",
       "    <tr>\n",
       "      <th>name</th>\n",
       "      <td>ay</td>\n",
       "      <td>mn</td>\n",
       "      <td>as</td>\n",
       "    </tr>\n",
       "    <tr>\n",
       "      <th>ph.no</th>\n",
       "      <td>NaN</td>\n",
       "      <td>NaN</td>\n",
       "      <td>NaN</td>\n",
       "    </tr>\n",
       "  </tbody>\n",
       "</table>\n",
       "</div>"
      ],
      "text/plain": [
       "           0      1      2\n",
       "age       21     22     21\n",
       "sal    10000  12000  20000\n",
       "name      ay     mn     as\n",
       "ph.no    NaN    NaN    NaN"
      ]
     },
     "execution_count": 81,
     "metadata": {},
     "output_type": "execute_result"
    }
   ],
   "source": [
    "addCol"
   ]
  },
  {
   "cell_type": "markdown",
   "id": "f4dfe7b0",
   "metadata": {},
   "source": [
    "#### Revert"
   ]
  },
  {
   "cell_type": "code",
   "execution_count": 82,
   "id": "0b52ab0b",
   "metadata": {},
   "outputs": [],
   "source": [
    "addCol = addCol.T"
   ]
  },
  {
   "cell_type": "code",
   "execution_count": 83,
   "id": "a9d5605f",
   "metadata": {},
   "outputs": [
    {
     "data": {
      "text/html": [
       "<div>\n",
       "<style scoped>\n",
       "    .dataframe tbody tr th:only-of-type {\n",
       "        vertical-align: middle;\n",
       "    }\n",
       "\n",
       "    .dataframe tbody tr th {\n",
       "        vertical-align: top;\n",
       "    }\n",
       "\n",
       "    .dataframe thead th {\n",
       "        text-align: right;\n",
       "    }\n",
       "</style>\n",
       "<table border=\"1\" class=\"dataframe\">\n",
       "  <thead>\n",
       "    <tr style=\"text-align: right;\">\n",
       "      <th></th>\n",
       "      <th>age</th>\n",
       "      <th>sal</th>\n",
       "      <th>name</th>\n",
       "      <th>ph.no</th>\n",
       "    </tr>\n",
       "  </thead>\n",
       "  <tbody>\n",
       "    <tr>\n",
       "      <th>0</th>\n",
       "      <td>21</td>\n",
       "      <td>10000</td>\n",
       "      <td>ay</td>\n",
       "      <td>NaN</td>\n",
       "    </tr>\n",
       "    <tr>\n",
       "      <th>1</th>\n",
       "      <td>22</td>\n",
       "      <td>12000</td>\n",
       "      <td>mn</td>\n",
       "      <td>NaN</td>\n",
       "    </tr>\n",
       "    <tr>\n",
       "      <th>2</th>\n",
       "      <td>21</td>\n",
       "      <td>20000</td>\n",
       "      <td>as</td>\n",
       "      <td>NaN</td>\n",
       "    </tr>\n",
       "  </tbody>\n",
       "</table>\n",
       "</div>"
      ],
      "text/plain": [
       "  age    sal name ph.no\n",
       "0  21  10000   ay   NaN\n",
       "1  22  12000   mn   NaN\n",
       "2  21  20000   as   NaN"
      ]
     },
     "execution_count": 83,
     "metadata": {},
     "output_type": "execute_result"
    }
   ],
   "source": [
    "addCol"
   ]
  },
  {
   "cell_type": "markdown",
   "id": "1651693e",
   "metadata": {},
   "source": [
    "### Adding value to change NaN"
   ]
  },
  {
   "cell_type": "code",
   "execution_count": 100,
   "id": "1ed46644",
   "metadata": {},
   "outputs": [],
   "source": [
    "addCol['ph.no']=9495434706"
   ]
  },
  {
   "cell_type": "code",
   "execution_count": 101,
   "id": "154b36e9",
   "metadata": {},
   "outputs": [
    {
     "data": {
      "text/html": [
       "<div>\n",
       "<style scoped>\n",
       "    .dataframe tbody tr th:only-of-type {\n",
       "        vertical-align: middle;\n",
       "    }\n",
       "\n",
       "    .dataframe tbody tr th {\n",
       "        vertical-align: top;\n",
       "    }\n",
       "\n",
       "    .dataframe thead th {\n",
       "        text-align: right;\n",
       "    }\n",
       "</style>\n",
       "<table border=\"1\" class=\"dataframe\">\n",
       "  <thead>\n",
       "    <tr style=\"text-align: right;\">\n",
       "      <th></th>\n",
       "      <th>age</th>\n",
       "      <th>sal</th>\n",
       "      <th>name</th>\n",
       "      <th>ph.no</th>\n",
       "    </tr>\n",
       "  </thead>\n",
       "  <tbody>\n",
       "    <tr>\n",
       "      <th>0</th>\n",
       "      <td>21</td>\n",
       "      <td>10000</td>\n",
       "      <td>ay</td>\n",
       "      <td>9495434706</td>\n",
       "    </tr>\n",
       "    <tr>\n",
       "      <th>1</th>\n",
       "      <td>22</td>\n",
       "      <td>12000</td>\n",
       "      <td>mn</td>\n",
       "      <td>9495434706</td>\n",
       "    </tr>\n",
       "    <tr>\n",
       "      <th>2</th>\n",
       "      <td>21</td>\n",
       "      <td>20000</td>\n",
       "      <td>as</td>\n",
       "      <td>9495434706</td>\n",
       "    </tr>\n",
       "  </tbody>\n",
       "</table>\n",
       "</div>"
      ],
      "text/plain": [
       "  age    sal name       ph.no\n",
       "0  21  10000   ay  9495434706\n",
       "1  22  12000   mn  9495434706\n",
       "2  21  20000   as  9495434706"
      ]
     },
     "execution_count": 101,
     "metadata": {},
     "output_type": "execute_result"
    }
   ],
   "source": [
    "addCol"
   ]
  },
  {
   "cell_type": "code",
   "execution_count": 103,
   "id": "4717684c",
   "metadata": {},
   "outputs": [],
   "source": [
    "addCol['ph.no']=[9495434706, 7012251791,9744262595]"
   ]
  },
  {
   "cell_type": "code",
   "execution_count": 104,
   "id": "54b810d3",
   "metadata": {},
   "outputs": [
    {
     "data": {
      "text/html": [
       "<div>\n",
       "<style scoped>\n",
       "    .dataframe tbody tr th:only-of-type {\n",
       "        vertical-align: middle;\n",
       "    }\n",
       "\n",
       "    .dataframe tbody tr th {\n",
       "        vertical-align: top;\n",
       "    }\n",
       "\n",
       "    .dataframe thead th {\n",
       "        text-align: right;\n",
       "    }\n",
       "</style>\n",
       "<table border=\"1\" class=\"dataframe\">\n",
       "  <thead>\n",
       "    <tr style=\"text-align: right;\">\n",
       "      <th></th>\n",
       "      <th>age</th>\n",
       "      <th>sal</th>\n",
       "      <th>name</th>\n",
       "      <th>ph.no</th>\n",
       "    </tr>\n",
       "  </thead>\n",
       "  <tbody>\n",
       "    <tr>\n",
       "      <th>0</th>\n",
       "      <td>21</td>\n",
       "      <td>10000</td>\n",
       "      <td>ay</td>\n",
       "      <td>9495434706</td>\n",
       "    </tr>\n",
       "    <tr>\n",
       "      <th>1</th>\n",
       "      <td>22</td>\n",
       "      <td>12000</td>\n",
       "      <td>mn</td>\n",
       "      <td>7012251791</td>\n",
       "    </tr>\n",
       "    <tr>\n",
       "      <th>2</th>\n",
       "      <td>21</td>\n",
       "      <td>20000</td>\n",
       "      <td>as</td>\n",
       "      <td>9744262595</td>\n",
       "    </tr>\n",
       "  </tbody>\n",
       "</table>\n",
       "</div>"
      ],
      "text/plain": [
       "  age    sal name       ph.no\n",
       "0  21  10000   ay  9495434706\n",
       "1  22  12000   mn  7012251791\n",
       "2  21  20000   as  9744262595"
      ]
     },
     "execution_count": 104,
     "metadata": {},
     "output_type": "execute_result"
    }
   ],
   "source": [
    "addCol"
   ]
  },
  {
   "cell_type": "markdown",
   "id": "3235ecce",
   "metadata": {},
   "source": [
    "### Adding column and values"
   ]
  },
  {
   "cell_type": "code",
   "execution_count": 105,
   "id": "a7d06f13",
   "metadata": {},
   "outputs": [],
   "source": [
    "addCol['education']='MCA'"
   ]
  },
  {
   "cell_type": "code",
   "execution_count": 106,
   "id": "54b7e8d5",
   "metadata": {},
   "outputs": [
    {
     "data": {
      "text/html": [
       "<div>\n",
       "<style scoped>\n",
       "    .dataframe tbody tr th:only-of-type {\n",
       "        vertical-align: middle;\n",
       "    }\n",
       "\n",
       "    .dataframe tbody tr th {\n",
       "        vertical-align: top;\n",
       "    }\n",
       "\n",
       "    .dataframe thead th {\n",
       "        text-align: right;\n",
       "    }\n",
       "</style>\n",
       "<table border=\"1\" class=\"dataframe\">\n",
       "  <thead>\n",
       "    <tr style=\"text-align: right;\">\n",
       "      <th></th>\n",
       "      <th>age</th>\n",
       "      <th>sal</th>\n",
       "      <th>name</th>\n",
       "      <th>ph.no</th>\n",
       "      <th>education</th>\n",
       "    </tr>\n",
       "  </thead>\n",
       "  <tbody>\n",
       "    <tr>\n",
       "      <th>0</th>\n",
       "      <td>21</td>\n",
       "      <td>10000</td>\n",
       "      <td>ay</td>\n",
       "      <td>9495434706</td>\n",
       "      <td>MCA</td>\n",
       "    </tr>\n",
       "    <tr>\n",
       "      <th>1</th>\n",
       "      <td>22</td>\n",
       "      <td>12000</td>\n",
       "      <td>mn</td>\n",
       "      <td>7012251791</td>\n",
       "      <td>MCA</td>\n",
       "    </tr>\n",
       "    <tr>\n",
       "      <th>2</th>\n",
       "      <td>21</td>\n",
       "      <td>20000</td>\n",
       "      <td>as</td>\n",
       "      <td>9744262595</td>\n",
       "      <td>MCA</td>\n",
       "    </tr>\n",
       "  </tbody>\n",
       "</table>\n",
       "</div>"
      ],
      "text/plain": [
       "  age    sal name       ph.no education\n",
       "0  21  10000   ay  9495434706       MCA\n",
       "1  22  12000   mn  7012251791       MCA\n",
       "2  21  20000   as  9744262595       MCA"
      ]
     },
     "execution_count": 106,
     "metadata": {},
     "output_type": "execute_result"
    }
   ],
   "source": [
    "addCol\n"
   ]
  },
  {
   "cell_type": "markdown",
   "id": "8f6040b2",
   "metadata": {},
   "source": [
    "#### Reindexing the Frame (Changing the column order)"
   ]
  },
  {
   "cell_type": "code",
   "execution_count": 108,
   "id": "0a848f4e",
   "metadata": {},
   "outputs": [
    {
     "data": {
      "text/html": [
       "<div>\n",
       "<style scoped>\n",
       "    .dataframe tbody tr th:only-of-type {\n",
       "        vertical-align: middle;\n",
       "    }\n",
       "\n",
       "    .dataframe tbody tr th {\n",
       "        vertical-align: top;\n",
       "    }\n",
       "\n",
       "    .dataframe thead th {\n",
       "        text-align: right;\n",
       "    }\n",
       "</style>\n",
       "<table border=\"1\" class=\"dataframe\">\n",
       "  <thead>\n",
       "    <tr style=\"text-align: right;\">\n",
       "      <th></th>\n",
       "      <th>name</th>\n",
       "      <th>age</th>\n",
       "      <th>sal</th>\n",
       "      <th>education</th>\n",
       "      <th>ph.no</th>\n",
       "    </tr>\n",
       "  </thead>\n",
       "  <tbody>\n",
       "    <tr>\n",
       "      <th>0</th>\n",
       "      <td>ay</td>\n",
       "      <td>21</td>\n",
       "      <td>10000</td>\n",
       "      <td>MCA</td>\n",
       "      <td>9495434706</td>\n",
       "    </tr>\n",
       "    <tr>\n",
       "      <th>1</th>\n",
       "      <td>mn</td>\n",
       "      <td>22</td>\n",
       "      <td>12000</td>\n",
       "      <td>MCA</td>\n",
       "      <td>7012251791</td>\n",
       "    </tr>\n",
       "    <tr>\n",
       "      <th>2</th>\n",
       "      <td>as</td>\n",
       "      <td>21</td>\n",
       "      <td>20000</td>\n",
       "      <td>MCA</td>\n",
       "      <td>9744262595</td>\n",
       "    </tr>\n",
       "  </tbody>\n",
       "</table>\n",
       "</div>"
      ],
      "text/plain": [
       "  name age    sal education       ph.no\n",
       "0   ay  21  10000       MCA  9495434706\n",
       "1   mn  22  12000       MCA  7012251791\n",
       "2   as  21  20000       MCA  9744262595"
      ]
     },
     "execution_count": 108,
     "metadata": {},
     "output_type": "execute_result"
    }
   ],
   "source": [
    "addCol.reindex(columns=['name','age','sal','education','ph.no'])"
   ]
  },
  {
   "cell_type": "markdown",
   "id": "9b5d6585",
   "metadata": {},
   "source": [
    "### Removing a row using drop()"
   ]
  },
  {
   "cell_type": "code",
   "execution_count": 109,
   "id": "34c7c6ab",
   "metadata": {},
   "outputs": [],
   "source": [
    "newCol = addCol.drop(2)"
   ]
  },
  {
   "cell_type": "code",
   "execution_count": 110,
   "id": "9a4d42d2",
   "metadata": {},
   "outputs": [
    {
     "data": {
      "text/html": [
       "<div>\n",
       "<style scoped>\n",
       "    .dataframe tbody tr th:only-of-type {\n",
       "        vertical-align: middle;\n",
       "    }\n",
       "\n",
       "    .dataframe tbody tr th {\n",
       "        vertical-align: top;\n",
       "    }\n",
       "\n",
       "    .dataframe thead th {\n",
       "        text-align: right;\n",
       "    }\n",
       "</style>\n",
       "<table border=\"1\" class=\"dataframe\">\n",
       "  <thead>\n",
       "    <tr style=\"text-align: right;\">\n",
       "      <th></th>\n",
       "      <th>age</th>\n",
       "      <th>sal</th>\n",
       "      <th>name</th>\n",
       "      <th>ph.no</th>\n",
       "      <th>education</th>\n",
       "    </tr>\n",
       "  </thead>\n",
       "  <tbody>\n",
       "    <tr>\n",
       "      <th>0</th>\n",
       "      <td>21</td>\n",
       "      <td>10000</td>\n",
       "      <td>ay</td>\n",
       "      <td>9495434706</td>\n",
       "      <td>MCA</td>\n",
       "    </tr>\n",
       "    <tr>\n",
       "      <th>1</th>\n",
       "      <td>22</td>\n",
       "      <td>12000</td>\n",
       "      <td>mn</td>\n",
       "      <td>7012251791</td>\n",
       "      <td>MCA</td>\n",
       "    </tr>\n",
       "  </tbody>\n",
       "</table>\n",
       "</div>"
      ],
      "text/plain": [
       "  age    sal name       ph.no education\n",
       "0  21  10000   ay  9495434706       MCA\n",
       "1  22  12000   mn  7012251791       MCA"
      ]
     },
     "execution_count": 110,
     "metadata": {},
     "output_type": "execute_result"
    }
   ],
   "source": [
    "newCol"
   ]
  },
  {
   "cell_type": "markdown",
   "id": "60963c9d",
   "metadata": {},
   "source": [
    "### Removing a Column"
   ]
  },
  {
   "cell_type": "code",
   "execution_count": 114,
   "id": "a58a90b4",
   "metadata": {},
   "outputs": [],
   "source": [
    "delCol = addCol.drop('name',axis=1)"
   ]
  },
  {
   "cell_type": "code",
   "execution_count": 115,
   "id": "ed6e054b",
   "metadata": {},
   "outputs": [
    {
     "data": {
      "text/html": [
       "<div>\n",
       "<style scoped>\n",
       "    .dataframe tbody tr th:only-of-type {\n",
       "        vertical-align: middle;\n",
       "    }\n",
       "\n",
       "    .dataframe tbody tr th {\n",
       "        vertical-align: top;\n",
       "    }\n",
       "\n",
       "    .dataframe thead th {\n",
       "        text-align: right;\n",
       "    }\n",
       "</style>\n",
       "<table border=\"1\" class=\"dataframe\">\n",
       "  <thead>\n",
       "    <tr style=\"text-align: right;\">\n",
       "      <th></th>\n",
       "      <th>age</th>\n",
       "      <th>sal</th>\n",
       "      <th>ph.no</th>\n",
       "      <th>education</th>\n",
       "    </tr>\n",
       "  </thead>\n",
       "  <tbody>\n",
       "    <tr>\n",
       "      <th>0</th>\n",
       "      <td>21</td>\n",
       "      <td>10000</td>\n",
       "      <td>9495434706</td>\n",
       "      <td>MCA</td>\n",
       "    </tr>\n",
       "    <tr>\n",
       "      <th>1</th>\n",
       "      <td>22</td>\n",
       "      <td>12000</td>\n",
       "      <td>7012251791</td>\n",
       "      <td>MCA</td>\n",
       "    </tr>\n",
       "    <tr>\n",
       "      <th>2</th>\n",
       "      <td>21</td>\n",
       "      <td>20000</td>\n",
       "      <td>9744262595</td>\n",
       "      <td>MCA</td>\n",
       "    </tr>\n",
       "  </tbody>\n",
       "</table>\n",
       "</div>"
      ],
      "text/plain": [
       "  age    sal       ph.no education\n",
       "0  21  10000  9495434706       MCA\n",
       "1  22  12000  7012251791       MCA\n",
       "2  21  20000  9744262595       MCA"
      ]
     },
     "execution_count": 115,
     "metadata": {},
     "output_type": "execute_result"
    }
   ],
   "source": [
    "delCol"
   ]
  },
  {
   "cell_type": "markdown",
   "id": "85c94099",
   "metadata": {},
   "source": [
    "## Creating a series using index\n"
   ]
  },
  {
   "cell_type": "code",
   "execution_count": 84,
   "id": "9120579f",
   "metadata": {},
   "outputs": [],
   "source": [
    "obj = Series([1,2,3,4,5])"
   ]
  },
  {
   "cell_type": "code",
   "execution_count": 85,
   "id": "c5c5438d",
   "metadata": {},
   "outputs": [
    {
     "data": {
      "text/plain": [
       "0    1\n",
       "1    2\n",
       "2    3\n",
       "3    4\n",
       "4    5\n",
       "dtype: int64"
      ]
     },
     "execution_count": 85,
     "metadata": {},
     "output_type": "execute_result"
    }
   ],
   "source": [
    "obj\n"
   ]
  },
  {
   "cell_type": "code",
   "execution_count": 96,
   "id": "db6fd901",
   "metadata": {},
   "outputs": [],
   "source": [
    "obj = Series([1,2,3,4,5],index=['a','b','c','d','e'])"
   ]
  },
  {
   "cell_type": "code",
   "execution_count": 97,
   "id": "09548934",
   "metadata": {},
   "outputs": [
    {
     "data": {
      "text/plain": [
       "a    1\n",
       "b    2\n",
       "c    3\n",
       "d    4\n",
       "e    5\n",
       "dtype: int64"
      ]
     },
     "execution_count": 97,
     "metadata": {},
     "output_type": "execute_result"
    }
   ],
   "source": [
    "obj\n"
   ]
  },
  {
   "cell_type": "code",
   "execution_count": 88,
   "id": "5b2615b6",
   "metadata": {},
   "outputs": [
    {
     "data": {
      "text/plain": [
       "1"
      ]
     },
     "execution_count": 88,
     "metadata": {},
     "output_type": "execute_result"
    }
   ],
   "source": [
    "obj['a']"
   ]
  },
  {
   "cell_type": "markdown",
   "id": "febca278",
   "metadata": {},
   "source": [
    "### reindex"
   ]
  },
  {
   "cell_type": "code",
   "execution_count": 98,
   "id": "eece6db4",
   "metadata": {},
   "outputs": [],
   "source": [
    "obj = obj.reindex(['b','a','c','e','d'])"
   ]
  },
  {
   "cell_type": "code",
   "execution_count": 99,
   "id": "9121a933",
   "metadata": {},
   "outputs": [
    {
     "data": {
      "text/plain": [
       "b    2\n",
       "a    1\n",
       "c    3\n",
       "e    5\n",
       "d    4\n",
       "dtype: int64"
      ]
     },
     "execution_count": 99,
     "metadata": {},
     "output_type": "execute_result"
    }
   ],
   "source": [
    "obj\n"
   ]
  },
  {
   "cell_type": "markdown",
   "id": "83fa5606",
   "metadata": {},
   "source": [
    "## Adding 2 series"
   ]
  },
  {
   "cell_type": "code",
   "execution_count": 138,
   "id": "54e25686",
   "metadata": {},
   "outputs": [],
   "source": [
    "seriesA = Series([3,4,5,6])\n",
    "seriesB = Series([20,30,50,60])"
   ]
  },
  {
   "cell_type": "code",
   "execution_count": 117,
   "id": "09729b34",
   "metadata": {},
   "outputs": [
    {
     "data": {
      "text/plain": [
       "0    23\n",
       "1    34\n",
       "2    55\n",
       "3    66\n",
       "dtype: int64"
      ]
     },
     "execution_count": 117,
     "metadata": {},
     "output_type": "execute_result"
    }
   ],
   "source": [
    "seriesA+seriesB"
   ]
  },
  {
   "cell_type": "markdown",
   "id": "0aaaf8e6",
   "metadata": {},
   "source": [
    "#### Character and integer"
   ]
  },
  {
   "cell_type": "code",
   "execution_count": 118,
   "id": "88024166",
   "metadata": {},
   "outputs": [],
   "source": [
    "seriesA = Series(['a',4,5,6])\n",
    "seriesB = Series([20,'b',50,60])"
   ]
  },
  {
   "cell_type": "code",
   "execution_count": 120,
   "id": "fa40d01d",
   "metadata": {},
   "outputs": [],
   "source": [
    "# seriesA+seriesB Cause error"
   ]
  },
  {
   "cell_type": "markdown",
   "id": "994f367c",
   "metadata": {},
   "source": [
    "#### Character only"
   ]
  },
  {
   "cell_type": "code",
   "execution_count": 121,
   "id": "e48e1780",
   "metadata": {},
   "outputs": [],
   "source": [
    "seriesA = Series(['a','b','c'])\n",
    "seriesB = Series(['d','e','f'])"
   ]
  },
  {
   "cell_type": "code",
   "execution_count": 122,
   "id": "24962c10",
   "metadata": {},
   "outputs": [
    {
     "data": {
      "text/plain": [
       "0    ad\n",
       "1    be\n",
       "2    cf\n",
       "dtype: object"
      ]
     },
     "execution_count": 122,
     "metadata": {},
     "output_type": "execute_result"
    }
   ],
   "source": [
    "seriesA+seriesB"
   ]
  },
  {
   "cell_type": "markdown",
   "id": "2e297bf4",
   "metadata": {},
   "source": [
    "## Adding DataFrames"
   ]
  },
  {
   "cell_type": "code",
   "execution_count": 123,
   "id": "792c636f",
   "metadata": {},
   "outputs": [],
   "source": [
    "dataA = DataFrame({'A':[1,3,4,5],'B':[20,30,40,50]})"
   ]
  },
  {
   "cell_type": "code",
   "execution_count": 124,
   "id": "0c3c267f",
   "metadata": {},
   "outputs": [
    {
     "data": {
      "text/html": [
       "<div>\n",
       "<style scoped>\n",
       "    .dataframe tbody tr th:only-of-type {\n",
       "        vertical-align: middle;\n",
       "    }\n",
       "\n",
       "    .dataframe tbody tr th {\n",
       "        vertical-align: top;\n",
       "    }\n",
       "\n",
       "    .dataframe thead th {\n",
       "        text-align: right;\n",
       "    }\n",
       "</style>\n",
       "<table border=\"1\" class=\"dataframe\">\n",
       "  <thead>\n",
       "    <tr style=\"text-align: right;\">\n",
       "      <th></th>\n",
       "      <th>A</th>\n",
       "      <th>B</th>\n",
       "    </tr>\n",
       "  </thead>\n",
       "  <tbody>\n",
       "    <tr>\n",
       "      <th>0</th>\n",
       "      <td>1</td>\n",
       "      <td>20</td>\n",
       "    </tr>\n",
       "    <tr>\n",
       "      <th>1</th>\n",
       "      <td>3</td>\n",
       "      <td>30</td>\n",
       "    </tr>\n",
       "    <tr>\n",
       "      <th>2</th>\n",
       "      <td>4</td>\n",
       "      <td>40</td>\n",
       "    </tr>\n",
       "    <tr>\n",
       "      <th>3</th>\n",
       "      <td>5</td>\n",
       "      <td>50</td>\n",
       "    </tr>\n",
       "  </tbody>\n",
       "</table>\n",
       "</div>"
      ],
      "text/plain": [
       "   A   B\n",
       "0  1  20\n",
       "1  3  30\n",
       "2  4  40\n",
       "3  5  50"
      ]
     },
     "execution_count": 124,
     "metadata": {},
     "output_type": "execute_result"
    }
   ],
   "source": [
    "dataA"
   ]
  },
  {
   "cell_type": "code",
   "execution_count": 125,
   "id": "97f156c4",
   "metadata": {},
   "outputs": [],
   "source": [
    "dataB = DataFrame({'A':[100,200,400,500],'B':[200,300,400,500]})"
   ]
  },
  {
   "cell_type": "code",
   "execution_count": 126,
   "id": "9b36e072",
   "metadata": {},
   "outputs": [
    {
     "data": {
      "text/html": [
       "<div>\n",
       "<style scoped>\n",
       "    .dataframe tbody tr th:only-of-type {\n",
       "        vertical-align: middle;\n",
       "    }\n",
       "\n",
       "    .dataframe tbody tr th {\n",
       "        vertical-align: top;\n",
       "    }\n",
       "\n",
       "    .dataframe thead th {\n",
       "        text-align: right;\n",
       "    }\n",
       "</style>\n",
       "<table border=\"1\" class=\"dataframe\">\n",
       "  <thead>\n",
       "    <tr style=\"text-align: right;\">\n",
       "      <th></th>\n",
       "      <th>A</th>\n",
       "      <th>B</th>\n",
       "    </tr>\n",
       "  </thead>\n",
       "  <tbody>\n",
       "    <tr>\n",
       "      <th>0</th>\n",
       "      <td>100</td>\n",
       "      <td>200</td>\n",
       "    </tr>\n",
       "    <tr>\n",
       "      <th>1</th>\n",
       "      <td>200</td>\n",
       "      <td>300</td>\n",
       "    </tr>\n",
       "    <tr>\n",
       "      <th>2</th>\n",
       "      <td>400</td>\n",
       "      <td>400</td>\n",
       "    </tr>\n",
       "    <tr>\n",
       "      <th>3</th>\n",
       "      <td>500</td>\n",
       "      <td>500</td>\n",
       "    </tr>\n",
       "  </tbody>\n",
       "</table>\n",
       "</div>"
      ],
      "text/plain": [
       "     A    B\n",
       "0  100  200\n",
       "1  200  300\n",
       "2  400  400\n",
       "3  500  500"
      ]
     },
     "execution_count": 126,
     "metadata": {},
     "output_type": "execute_result"
    }
   ],
   "source": [
    "dataB"
   ]
  },
  {
   "cell_type": "code",
   "execution_count": 127,
   "id": "78922d73",
   "metadata": {},
   "outputs": [
    {
     "data": {
      "text/html": [
       "<div>\n",
       "<style scoped>\n",
       "    .dataframe tbody tr th:only-of-type {\n",
       "        vertical-align: middle;\n",
       "    }\n",
       "\n",
       "    .dataframe tbody tr th {\n",
       "        vertical-align: top;\n",
       "    }\n",
       "\n",
       "    .dataframe thead th {\n",
       "        text-align: right;\n",
       "    }\n",
       "</style>\n",
       "<table border=\"1\" class=\"dataframe\">\n",
       "  <thead>\n",
       "    <tr style=\"text-align: right;\">\n",
       "      <th></th>\n",
       "      <th>A</th>\n",
       "      <th>B</th>\n",
       "    </tr>\n",
       "  </thead>\n",
       "  <tbody>\n",
       "    <tr>\n",
       "      <th>0</th>\n",
       "      <td>101</td>\n",
       "      <td>220</td>\n",
       "    </tr>\n",
       "    <tr>\n",
       "      <th>1</th>\n",
       "      <td>203</td>\n",
       "      <td>330</td>\n",
       "    </tr>\n",
       "    <tr>\n",
       "      <th>2</th>\n",
       "      <td>404</td>\n",
       "      <td>440</td>\n",
       "    </tr>\n",
       "    <tr>\n",
       "      <th>3</th>\n",
       "      <td>505</td>\n",
       "      <td>550</td>\n",
       "    </tr>\n",
       "  </tbody>\n",
       "</table>\n",
       "</div>"
      ],
      "text/plain": [
       "     A    B\n",
       "0  101  220\n",
       "1  203  330\n",
       "2  404  440\n",
       "3  505  550"
      ]
     },
     "execution_count": 127,
     "metadata": {},
     "output_type": "execute_result"
    }
   ],
   "source": [
    "dataA+dataB"
   ]
  },
  {
   "cell_type": "markdown",
   "id": "5b171c0f",
   "metadata": {},
   "source": [
    "## Adding DataFrame with Series"
   ]
  },
  {
   "cell_type": "code",
   "execution_count": 133,
   "id": "66245185",
   "metadata": {},
   "outputs": [],
   "source": [
    "seriesNew = Series([1,3],index=['A','B'])"
   ]
  },
  {
   "cell_type": "code",
   "execution_count": 134,
   "id": "df724fb5",
   "metadata": {},
   "outputs": [
    {
     "data": {
      "text/plain": [
       "A    1\n",
       "B    3\n",
       "dtype: int64"
      ]
     },
     "execution_count": 134,
     "metadata": {},
     "output_type": "execute_result"
    }
   ],
   "source": [
    "seriesNew"
   ]
  },
  {
   "cell_type": "code",
   "execution_count": 135,
   "id": "2dbe7300",
   "metadata": {},
   "outputs": [
    {
     "data": {
      "text/html": [
       "<div>\n",
       "<style scoped>\n",
       "    .dataframe tbody tr th:only-of-type {\n",
       "        vertical-align: middle;\n",
       "    }\n",
       "\n",
       "    .dataframe tbody tr th {\n",
       "        vertical-align: top;\n",
       "    }\n",
       "\n",
       "    .dataframe thead th {\n",
       "        text-align: right;\n",
       "    }\n",
       "</style>\n",
       "<table border=\"1\" class=\"dataframe\">\n",
       "  <thead>\n",
       "    <tr style=\"text-align: right;\">\n",
       "      <th></th>\n",
       "      <th>A</th>\n",
       "      <th>B</th>\n",
       "    </tr>\n",
       "  </thead>\n",
       "  <tbody>\n",
       "    <tr>\n",
       "      <th>0</th>\n",
       "      <td>2</td>\n",
       "      <td>23</td>\n",
       "    </tr>\n",
       "    <tr>\n",
       "      <th>1</th>\n",
       "      <td>4</td>\n",
       "      <td>33</td>\n",
       "    </tr>\n",
       "    <tr>\n",
       "      <th>2</th>\n",
       "      <td>5</td>\n",
       "      <td>43</td>\n",
       "    </tr>\n",
       "    <tr>\n",
       "      <th>3</th>\n",
       "      <td>6</td>\n",
       "      <td>53</td>\n",
       "    </tr>\n",
       "  </tbody>\n",
       "</table>\n",
       "</div>"
      ],
      "text/plain": [
       "   A   B\n",
       "0  2  23\n",
       "1  4  33\n",
       "2  5  43\n",
       "3  6  53"
      ]
     },
     "execution_count": 135,
     "metadata": {},
     "output_type": "execute_result"
    }
   ],
   "source": [
    "seriesNew+dataA"
   ]
  },
  {
   "cell_type": "code",
   "execution_count": 136,
   "id": "962aad10",
   "metadata": {},
   "outputs": [
    {
     "data": {
      "text/html": [
       "<div>\n",
       "<style scoped>\n",
       "    .dataframe tbody tr th:only-of-type {\n",
       "        vertical-align: middle;\n",
       "    }\n",
       "\n",
       "    .dataframe tbody tr th {\n",
       "        vertical-align: top;\n",
       "    }\n",
       "\n",
       "    .dataframe thead th {\n",
       "        text-align: right;\n",
       "    }\n",
       "</style>\n",
       "<table border=\"1\" class=\"dataframe\">\n",
       "  <thead>\n",
       "    <tr style=\"text-align: right;\">\n",
       "      <th></th>\n",
       "      <th>A</th>\n",
       "      <th>B</th>\n",
       "    </tr>\n",
       "  </thead>\n",
       "  <tbody>\n",
       "    <tr>\n",
       "      <th>0</th>\n",
       "      <td>0</td>\n",
       "      <td>-17</td>\n",
       "    </tr>\n",
       "    <tr>\n",
       "      <th>1</th>\n",
       "      <td>-2</td>\n",
       "      <td>-27</td>\n",
       "    </tr>\n",
       "    <tr>\n",
       "      <th>2</th>\n",
       "      <td>-3</td>\n",
       "      <td>-37</td>\n",
       "    </tr>\n",
       "    <tr>\n",
       "      <th>3</th>\n",
       "      <td>-4</td>\n",
       "      <td>-47</td>\n",
       "    </tr>\n",
       "  </tbody>\n",
       "</table>\n",
       "</div>"
      ],
      "text/plain": [
       "   A   B\n",
       "0  0 -17\n",
       "1 -2 -27\n",
       "2 -3 -37\n",
       "3 -4 -47"
      ]
     },
     "execution_count": 136,
     "metadata": {},
     "output_type": "execute_result"
    }
   ],
   "source": [
    "seriesNew-dataA"
   ]
  },
  {
   "cell_type": "markdown",
   "id": "15457291",
   "metadata": {},
   "source": [
    "## Sorting Index using sort_index()"
   ]
  },
  {
   "cell_type": "code",
   "execution_count": 139,
   "id": "e852af38",
   "metadata": {},
   "outputs": [
    {
     "data": {
      "text/plain": [
       "0    3\n",
       "1    4\n",
       "2    5\n",
       "3    6\n",
       "dtype: int64"
      ]
     },
     "execution_count": 139,
     "metadata": {},
     "output_type": "execute_result"
    }
   ],
   "source": [
    "seriesA"
   ]
  },
  {
   "cell_type": "code",
   "execution_count": 140,
   "id": "b4451ad0",
   "metadata": {},
   "outputs": [
    {
     "data": {
      "text/plain": [
       "3    6\n",
       "2    5\n",
       "1    4\n",
       "0    3\n",
       "dtype: int64"
      ]
     },
     "execution_count": 140,
     "metadata": {},
     "output_type": "execute_result"
    }
   ],
   "source": [
    "seriesA.reindex([3,2,1,0])"
   ]
  },
  {
   "cell_type": "code",
   "execution_count": 141,
   "id": "86a2f4aa",
   "metadata": {},
   "outputs": [
    {
     "data": {
      "text/plain": [
       "0    3\n",
       "1    4\n",
       "2    5\n",
       "3    6\n",
       "dtype: int64"
      ]
     },
     "execution_count": 141,
     "metadata": {},
     "output_type": "execute_result"
    }
   ],
   "source": [
    "seriesA.sort_index()"
   ]
  }
 ],
 "metadata": {
  "kernelspec": {
   "display_name": "Python 3 (ipykernel)",
   "language": "python",
   "name": "python3"
  },
  "language_info": {
   "codemirror_mode": {
    "name": "ipython",
    "version": 3
   },
   "file_extension": ".py",
   "mimetype": "text/x-python",
   "name": "python",
   "nbconvert_exporter": "python",
   "pygments_lexer": "ipython3",
   "version": "3.10.9"
  }
 },
 "nbformat": 4,
 "nbformat_minor": 5
}
