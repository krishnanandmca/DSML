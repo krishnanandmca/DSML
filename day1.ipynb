{
 "cells": [
  {
   "cell_type": "code",
   "execution_count": 2,
   "id": "8b66e8c6",
   "metadata": {},
   "outputs": [],
   "source": [
    "dict={'a':'one','b':'two','c':3} "
   ]
  },
  {
   "cell_type": "code",
   "execution_count": 3,
   "id": "c49f4984",
   "metadata": {},
   "outputs": [
    {
     "name": "stdout",
     "output_type": "stream",
     "text": [
      "one\n"
     ]
    }
   ],
   "source": [
    "print(dict['a'])"
   ]
  },
  {
   "cell_type": "markdown",
   "id": "9ead387f",
   "metadata": {},
   "source": [
    "# Converting Dictionary to Series"
   ]
  },
  {
   "cell_type": "markdown",
   "id": "7b90097d",
   "metadata": {},
   "source": [
    "### Importing Series and Pandas"
   ]
  },
  {
   "cell_type": "code",
   "execution_count": 4,
   "id": "f020fabe",
   "metadata": {},
   "outputs": [],
   "source": [
    "from pandas import Series"
   ]
  },
  {
   "cell_type": "code",
   "execution_count": 5,
   "id": "59daf847",
   "metadata": {},
   "outputs": [],
   "source": [
    "ser = Series(dict)"
   ]
  },
  {
   "cell_type": "raw",
   "id": "ddacde95",
   "metadata": {},
   "source": [
    "print(ser)"
   ]
  },
  {
   "cell_type": "code",
   "execution_count": 7,
   "id": "ab001f7b",
   "metadata": {},
   "outputs": [
    {
     "data": {
      "text/plain": [
       "'one'"
      ]
     },
     "execution_count": 7,
     "metadata": {},
     "output_type": "execute_result"
    }
   ],
   "source": [
    "ser['a']"
   ]
  },
  {
   "cell_type": "markdown",
   "id": "6ec7afba",
   "metadata": {},
   "source": [
    "# Practice"
   ]
  },
  {
   "cell_type": "markdown",
   "id": "24b6ebb3",
   "metadata": {},
   "source": [
    "##### Create dictionary of 5 elements and convert it into series and print the 4th value"
   ]
  },
  {
   "cell_type": "code",
   "execution_count": 8,
   "id": "49f07e23",
   "metadata": {},
   "outputs": [],
   "source": [
    "dictP = {'a':'one','b':'two','c':'three','d':'four','e':'five'}"
   ]
  },
  {
   "cell_type": "code",
   "execution_count": 9,
   "id": "b2d45a58",
   "metadata": {},
   "outputs": [
    {
     "data": {
      "text/plain": [
       "{'a': 'one', 'b': 'two', 'c': 'three', 'd': 'four', 'e': 'five'}"
      ]
     },
     "execution_count": 9,
     "metadata": {},
     "output_type": "execute_result"
    }
   ],
   "source": [
    "dictP"
   ]
  },
  {
   "cell_type": "code",
   "execution_count": 10,
   "id": "e0ae748e",
   "metadata": {},
   "outputs": [],
   "source": [
    "cvse = Series(dictP)"
   ]
  },
  {
   "cell_type": "code",
   "execution_count": 11,
   "id": "d21b95ba",
   "metadata": {},
   "outputs": [
    {
     "data": {
      "text/plain": [
       "a      one\n",
       "b      two\n",
       "c    three\n",
       "d     four\n",
       "e     five\n",
       "dtype: object"
      ]
     },
     "execution_count": 11,
     "metadata": {},
     "output_type": "execute_result"
    }
   ],
   "source": [
    "cvse"
   ]
  },
  {
   "cell_type": "code",
   "execution_count": 12,
   "id": "d0f370ab",
   "metadata": {},
   "outputs": [
    {
     "data": {
      "text/plain": [
       "'four'"
      ]
     },
     "execution_count": 12,
     "metadata": {},
     "output_type": "execute_result"
    }
   ],
   "source": [
    "cvse['d']"
   ]
  },
  {
   "cell_type": "markdown",
   "id": "a146d2e9",
   "metadata": {},
   "source": [
    "# Converting dictionary to dataframe"
   ]
  },
  {
   "cell_type": "markdown",
   "id": "a3269283",
   "metadata": {},
   "source": [
    "# Data Frame"
   ]
  },
  {
   "cell_type": "markdown",
   "id": "abb1127c",
   "metadata": {},
   "source": [
    "### Importing DataFrame"
   ]
  },
  {
   "cell_type": "code",
   "execution_count": 13,
   "id": "36ee7ff9",
   "metadata": {},
   "outputs": [],
   "source": [
    "from pandas import DataFrame"
   ]
  },
  {
   "cell_type": "code",
   "execution_count": 14,
   "id": "7efd7371",
   "metadata": {},
   "outputs": [],
   "source": [
    "dictDf = {'name':['ay','mn','as'],\n",
    "         'age':['21','22','21'],\n",
    "         'sal':['10000','12000','20000']}"
   ]
  },
  {
   "cell_type": "code",
   "execution_count": 15,
   "id": "e8899cda",
   "metadata": {},
   "outputs": [
    {
     "data": {
      "text/plain": [
       "{'name': ['ay', 'mn', 'as'],\n",
       " 'age': ['21', '22', '21'],\n",
       " 'sal': ['10000', '12000', '20000']}"
      ]
     },
     "execution_count": 15,
     "metadata": {},
     "output_type": "execute_result"
    }
   ],
   "source": [
    "dictDf"
   ]
  },
  {
   "cell_type": "code",
   "execution_count": 16,
   "id": "859910c1",
   "metadata": {},
   "outputs": [],
   "source": [
    "cvDf = DataFrame(dictDf)"
   ]
  },
  {
   "cell_type": "code",
   "execution_count": 17,
   "id": "6fc438e2",
   "metadata": {},
   "outputs": [
    {
     "data": {
      "text/html": [
       "<div>\n",
       "<style scoped>\n",
       "    .dataframe tbody tr th:only-of-type {\n",
       "        vertical-align: middle;\n",
       "    }\n",
       "\n",
       "    .dataframe tbody tr th {\n",
       "        vertical-align: top;\n",
       "    }\n",
       "\n",
       "    .dataframe thead th {\n",
       "        text-align: right;\n",
       "    }\n",
       "</style>\n",
       "<table border=\"1\" class=\"dataframe\">\n",
       "  <thead>\n",
       "    <tr style=\"text-align: right;\">\n",
       "      <th></th>\n",
       "      <th>name</th>\n",
       "      <th>age</th>\n",
       "      <th>sal</th>\n",
       "    </tr>\n",
       "  </thead>\n",
       "  <tbody>\n",
       "    <tr>\n",
       "      <th>0</th>\n",
       "      <td>ay</td>\n",
       "      <td>21</td>\n",
       "      <td>10000</td>\n",
       "    </tr>\n",
       "    <tr>\n",
       "      <th>1</th>\n",
       "      <td>mn</td>\n",
       "      <td>22</td>\n",
       "      <td>12000</td>\n",
       "    </tr>\n",
       "    <tr>\n",
       "      <th>2</th>\n",
       "      <td>as</td>\n",
       "      <td>21</td>\n",
       "      <td>20000</td>\n",
       "    </tr>\n",
       "  </tbody>\n",
       "</table>\n",
       "</div>"
      ],
      "text/plain": [
       "  name age    sal\n",
       "0   ay  21  10000\n",
       "1   mn  22  12000\n",
       "2   as  21  20000"
      ]
     },
     "execution_count": 17,
     "metadata": {},
     "output_type": "execute_result"
    }
   ],
   "source": [
    "cvDf"
   ]
  },
  {
   "cell_type": "markdown",
   "id": "048689a1",
   "metadata": {},
   "source": [
    "# Rearranging columns\n",
    "\n"
   ]
  },
  {
   "cell_type": "markdown",
   "id": "4766899a",
   "metadata": {},
   "source": [
    "### Syntax\n",
    "####  DataFrame(var,columns=[\"order of keys\"])"
   ]
  },
  {
   "cell_type": "code",
   "execution_count": 19,
   "id": "50ba4d10",
   "metadata": {},
   "outputs": [],
   "source": [
    "ordF = DataFrame(dictDf,columns=['age','sal','name'])"
   ]
  },
  {
   "cell_type": "code",
   "execution_count": 20,
   "id": "ba8e8e33",
   "metadata": {},
   "outputs": [
    {
     "data": {
      "text/html": [
       "<div>\n",
       "<style scoped>\n",
       "    .dataframe tbody tr th:only-of-type {\n",
       "        vertical-align: middle;\n",
       "    }\n",
       "\n",
       "    .dataframe tbody tr th {\n",
       "        vertical-align: top;\n",
       "    }\n",
       "\n",
       "    .dataframe thead th {\n",
       "        text-align: right;\n",
       "    }\n",
       "</style>\n",
       "<table border=\"1\" class=\"dataframe\">\n",
       "  <thead>\n",
       "    <tr style=\"text-align: right;\">\n",
       "      <th></th>\n",
       "      <th>age</th>\n",
       "      <th>sal</th>\n",
       "      <th>name</th>\n",
       "    </tr>\n",
       "  </thead>\n",
       "  <tbody>\n",
       "    <tr>\n",
       "      <th>0</th>\n",
       "      <td>21</td>\n",
       "      <td>10000</td>\n",
       "      <td>ay</td>\n",
       "    </tr>\n",
       "    <tr>\n",
       "      <th>1</th>\n",
       "      <td>22</td>\n",
       "      <td>12000</td>\n",
       "      <td>mn</td>\n",
       "    </tr>\n",
       "    <tr>\n",
       "      <th>2</th>\n",
       "      <td>21</td>\n",
       "      <td>20000</td>\n",
       "      <td>as</td>\n",
       "    </tr>\n",
       "  </tbody>\n",
       "</table>\n",
       "</div>"
      ],
      "text/plain": [
       "  age    sal name\n",
       "0  21  10000   ay\n",
       "1  22  12000   mn\n",
       "2  21  20000   as"
      ]
     },
     "execution_count": 20,
     "metadata": {},
     "output_type": "execute_result"
    }
   ],
   "source": [
    "ordF"
   ]
  },
  {
   "cell_type": "markdown",
   "id": "72475c69",
   "metadata": {},
   "source": [
    "### Adding new column"
   ]
  },
  {
   "cell_type": "code",
   "execution_count": 21,
   "id": "e6a073b2",
   "metadata": {},
   "outputs": [],
   "source": [
    "addCol = DataFrame(dictDf,columns=['age','sal','name','ph.no'])"
   ]
  },
  {
   "cell_type": "code",
   "execution_count": 22,
   "id": "7e6e2f7f",
   "metadata": {},
   "outputs": [
    {
     "data": {
      "text/html": [
       "<div>\n",
       "<style scoped>\n",
       "    .dataframe tbody tr th:only-of-type {\n",
       "        vertical-align: middle;\n",
       "    }\n",
       "\n",
       "    .dataframe tbody tr th {\n",
       "        vertical-align: top;\n",
       "    }\n",
       "\n",
       "    .dataframe thead th {\n",
       "        text-align: right;\n",
       "    }\n",
       "</style>\n",
       "<table border=\"1\" class=\"dataframe\">\n",
       "  <thead>\n",
       "    <tr style=\"text-align: right;\">\n",
       "      <th></th>\n",
       "      <th>age</th>\n",
       "      <th>sal</th>\n",
       "      <th>name</th>\n",
       "      <th>ph.no</th>\n",
       "    </tr>\n",
       "  </thead>\n",
       "  <tbody>\n",
       "    <tr>\n",
       "      <th>0</th>\n",
       "      <td>21</td>\n",
       "      <td>10000</td>\n",
       "      <td>ay</td>\n",
       "      <td>NaN</td>\n",
       "    </tr>\n",
       "    <tr>\n",
       "      <th>1</th>\n",
       "      <td>22</td>\n",
       "      <td>12000</td>\n",
       "      <td>mn</td>\n",
       "      <td>NaN</td>\n",
       "    </tr>\n",
       "    <tr>\n",
       "      <th>2</th>\n",
       "      <td>21</td>\n",
       "      <td>20000</td>\n",
       "      <td>as</td>\n",
       "      <td>NaN</td>\n",
       "    </tr>\n",
       "  </tbody>\n",
       "</table>\n",
       "</div>"
      ],
      "text/plain": [
       "  age    sal name ph.no\n",
       "0  21  10000   ay   NaN\n",
       "1  22  12000   mn   NaN\n",
       "2  21  20000   as   NaN"
      ]
     },
     "execution_count": 22,
     "metadata": {},
     "output_type": "execute_result"
    }
   ],
   "source": [
    "addCol"
   ]
  }
 ],
 "metadata": {
  "kernelspec": {
   "display_name": "Python 3 (ipykernel)",
   "language": "python",
   "name": "python3"
  },
  "language_info": {
   "codemirror_mode": {
    "name": "ipython",
    "version": 3
   },
   "file_extension": ".py",
   "mimetype": "text/x-python",
   "name": "python",
   "nbconvert_exporter": "python",
   "pygments_lexer": "ipython3",
   "version": "3.10.9"
  }
 },
 "nbformat": 4,
 "nbformat_minor": 5
}
