{
 "cells": [
  {
   "cell_type": "code",
   "execution_count": 2,
   "id": "4d53e8fe",
   "metadata": {},
   "outputs": [],
   "source": [
    "dict={'a':'one','b':'two','c':3} "
   ]
  },
  {
   "cell_type": "code",
   "execution_count": 3,
   "id": "1b17d47b",
   "metadata": {},
   "outputs": [
    {
     "name": "stdout",
     "output_type": "stream",
     "text": [
      "one\n"
     ]
    }
   ],
   "source": [
    "print(dict['a'])"
   ]
  },
  {
   "cell_type": "markdown",
   "id": "35018936",
   "metadata": {},
   "source": [
    "# Converting Dictionary to Series"
   ]
  },
  {
   "cell_type": "markdown",
   "id": "f359daf7",
   "metadata": {},
   "source": [
    "### Importing Series and Pandas"
   ]
  },
  {
   "cell_type": "code",
   "execution_count": 4,
   "id": "da679831",
   "metadata": {},
   "outputs": [],
   "source": [
    "from pandas import Series"
   ]
  },
  {
   "cell_type": "code",
   "execution_count": 5,
   "id": "a24250a2",
   "metadata": {},
   "outputs": [],
   "source": [
    "ser = Series(dict)"
   ]
  },
  {
   "cell_type": "raw",
   "id": "c6c25661",
   "metadata": {},
   "source": [
    "print(ser)"
   ]
  },
  {
   "cell_type": "code",
   "execution_count": 7,
   "id": "6f360ce1",
   "metadata": {},
   "outputs": [
    {
     "data": {
      "text/plain": [
       "'one'"
      ]
     },
     "execution_count": 7,
     "metadata": {},
     "output_type": "execute_result"
    }
   ],
   "source": [
    "ser['a']"
   ]
  },
  {
   "cell_type": "markdown",
   "id": "fb8cb03e",
   "metadata": {},
   "source": [
    "# Practice"
   ]
  },
  {
   "cell_type": "markdown",
   "id": "ac1a5851",
   "metadata": {},
   "source": [
    "##### Create dictionary of 5 elements and convert it into series and print the 4th value"
   ]
  },
  {
   "cell_type": "code",
   "execution_count": 8,
   "id": "f5676d0e",
   "metadata": {},
   "outputs": [],
   "source": [
    "dictP = {'a':'one','b':'two','c':'three','d':'four','e':'five'}"
   ]
  },
  {
   "cell_type": "code",
   "execution_count": 9,
   "id": "ad739ad6",
   "metadata": {},
   "outputs": [
    {
     "data": {
      "text/plain": [
       "{'a': 'one', 'b': 'two', 'c': 'three', 'd': 'four', 'e': 'five'}"
      ]
     },
     "execution_count": 9,
     "metadata": {},
     "output_type": "execute_result"
    }
   ],
   "source": [
    "dictP"
   ]
  },
  {
   "cell_type": "code",
   "execution_count": 10,
   "id": "b32b5390",
   "metadata": {},
   "outputs": [],
   "source": [
    "cvse = Series(dictP)"
   ]
  },
  {
   "cell_type": "code",
   "execution_count": 11,
   "id": "c2119562",
   "metadata": {},
   "outputs": [
    {
     "data": {
      "text/plain": [
       "a      one\n",
       "b      two\n",
       "c    three\n",
       "d     four\n",
       "e     five\n",
       "dtype: object"
      ]
     },
     "execution_count": 11,
     "metadata": {},
     "output_type": "execute_result"
    }
   ],
   "source": [
    "cvse"
   ]
  },
  {
   "cell_type": "code",
   "execution_count": 12,
   "id": "8bbd4bd8",
   "metadata": {},
   "outputs": [
    {
     "data": {
      "text/plain": [
       "'four'"
      ]
     },
     "execution_count": 12,
     "metadata": {},
     "output_type": "execute_result"
    }
   ],
   "source": [
    "cvse['d']"
   ]
  },
  {
   "cell_type": "markdown",
   "id": "c2a57f5b",
   "metadata": {},
   "source": [
    "# Converting dictionary to dataframe"
   ]
  },
  {
   "cell_type": "markdown",
   "id": "7888998f",
   "metadata": {},
   "source": [
    "# Data Frame"
   ]
  },
  {
   "cell_type": "markdown",
   "id": "5f7ec6d8",
   "metadata": {},
   "source": [
    "### Importing DataFrame"
   ]
  },
  {
   "cell_type": "code",
   "execution_count": 13,
   "id": "19184f3e",
   "metadata": {},
   "outputs": [],
   "source": [
    "from pandas import DataFrame"
   ]
  },
  {
   "cell_type": "code",
   "execution_count": 14,
   "id": "c17c4bf6",
   "metadata": {},
   "outputs": [],
   "source": [
    "dictDf = {'name':['ay','mn','as'],\n",
    "         'age':['21','22','21'],\n",
    "         'sal':['10000','12000','20000']}"
   ]
  },
  {
   "cell_type": "code",
   "execution_count": 15,
   "id": "14a6ec72",
   "metadata": {},
   "outputs": [
    {
     "data": {
      "text/plain": [
       "{'name': ['ay', 'mn', 'as'],\n",
       " 'age': ['21', '22', '21'],\n",
       " 'sal': ['10000', '12000', '20000']}"
      ]
     },
     "execution_count": 15,
     "metadata": {},
     "output_type": "execute_result"
    }
   ],
   "source": [
    "dictDf"
   ]
  },
  {
   "cell_type": "code",
   "execution_count": 16,
   "id": "38ca356d",
   "metadata": {},
   "outputs": [],
   "source": [
    "cvDf = DataFrame(dictDf)"
   ]
  },
  {
   "cell_type": "code",
   "execution_count": 17,
   "id": "8f8afde2",
   "metadata": {},
   "outputs": [
    {
     "data": {
      "text/html": [
       "<div>\n",
       "<style scoped>\n",
       "    .dataframe tbody tr th:only-of-type {\n",
       "        vertical-align: middle;\n",
       "    }\n",
       "\n",
       "    .dataframe tbody tr th {\n",
       "        vertical-align: top;\n",
       "    }\n",
       "\n",
       "    .dataframe thead th {\n",
       "        text-align: right;\n",
       "    }\n",
       "</style>\n",
       "<table border=\"1\" class=\"dataframe\">\n",
       "  <thead>\n",
       "    <tr style=\"text-align: right;\">\n",
       "      <th></th>\n",
       "      <th>name</th>\n",
       "      <th>age</th>\n",
       "      <th>sal</th>\n",
       "    </tr>\n",
       "  </thead>\n",
       "  <tbody>\n",
       "    <tr>\n",
       "      <th>0</th>\n",
       "      <td>ay</td>\n",
       "      <td>21</td>\n",
       "      <td>10000</td>\n",
       "    </tr>\n",
       "    <tr>\n",
       "      <th>1</th>\n",
       "      <td>mn</td>\n",
       "      <td>22</td>\n",
       "      <td>12000</td>\n",
       "    </tr>\n",
       "    <tr>\n",
       "      <th>2</th>\n",
       "      <td>as</td>\n",
       "      <td>21</td>\n",
       "      <td>20000</td>\n",
       "    </tr>\n",
       "  </tbody>\n",
       "</table>\n",
       "</div>"
      ],
      "text/plain": [
       "  name age    sal\n",
       "0   ay  21  10000\n",
       "1   mn  22  12000\n",
       "2   as  21  20000"
      ]
     },
     "execution_count": 17,
     "metadata": {},
     "output_type": "execute_result"
    }
   ],
   "source": [
    "cvDf"
   ]
  },
  {
   "cell_type": "markdown",
   "id": "c1d25ddf",
   "metadata": {},
   "source": [
    "# Rearranging columns\n",
    "\n"
   ]
  },
  {
   "cell_type": "markdown",
   "id": "2707ac7b",
   "metadata": {},
   "source": [
    "### Syntax\n",
    "####  DataFrame(var,columns=[\"order of keys\"])"
   ]
  },
  {
   "cell_type": "code",
   "execution_count": 19,
   "id": "9bc54645",
   "metadata": {},
   "outputs": [],
   "source": [
    "ordF = DataFrame(dictDf,columns=['age','sal','name'])"
   ]
  },
  {
   "cell_type": "code",
   "execution_count": 20,
   "id": "5e419f9a",
   "metadata": {},
   "outputs": [
    {
     "data": {
      "text/html": [
       "<div>\n",
       "<style scoped>\n",
       "    .dataframe tbody tr th:only-of-type {\n",
       "        vertical-align: middle;\n",
       "    }\n",
       "\n",
       "    .dataframe tbody tr th {\n",
       "        vertical-align: top;\n",
       "    }\n",
       "\n",
       "    .dataframe thead th {\n",
       "        text-align: right;\n",
       "    }\n",
       "</style>\n",
       "<table border=\"1\" class=\"dataframe\">\n",
       "  <thead>\n",
       "    <tr style=\"text-align: right;\">\n",
       "      <th></th>\n",
       "      <th>age</th>\n",
       "      <th>sal</th>\n",
       "      <th>name</th>\n",
       "    </tr>\n",
       "  </thead>\n",
       "  <tbody>\n",
       "    <tr>\n",
       "      <th>0</th>\n",
       "      <td>21</td>\n",
       "      <td>10000</td>\n",
       "      <td>ay</td>\n",
       "    </tr>\n",
       "    <tr>\n",
       "      <th>1</th>\n",
       "      <td>22</td>\n",
       "      <td>12000</td>\n",
       "      <td>mn</td>\n",
       "    </tr>\n",
       "    <tr>\n",
       "      <th>2</th>\n",
       "      <td>21</td>\n",
       "      <td>20000</td>\n",
       "      <td>as</td>\n",
       "    </tr>\n",
       "  </tbody>\n",
       "</table>\n",
       "</div>"
      ],
      "text/plain": [
       "  age    sal name\n",
       "0  21  10000   ay\n",
       "1  22  12000   mn\n",
       "2  21  20000   as"
      ]
     },
     "execution_count": 20,
     "metadata": {},
     "output_type": "execute_result"
    }
   ],
   "source": [
    "ordF"
   ]
  },
  {
   "cell_type": "markdown",
   "id": "204715f8",
   "metadata": {},
   "source": [
    "### Adding new column"
   ]
  },
  {
   "cell_type": "code",
   "execution_count": 21,
   "id": "159b2d09",
   "metadata": {},
   "outputs": [],
   "source": [
    "addCol = DataFrame(dictDf,columns=['age','sal','name','ph.no'])"
   ]
  },
  {
   "cell_type": "code",
   "execution_count": 22,
   "id": "cb413b43",
   "metadata": {},
   "outputs": [
    {
     "data": {
      "text/html": [
       "<div>\n",
       "<style scoped>\n",
       "    .dataframe tbody tr th:only-of-type {\n",
       "        vertical-align: middle;\n",
       "    }\n",
       "\n",
       "    .dataframe tbody tr th {\n",
       "        vertical-align: top;\n",
       "    }\n",
       "\n",
       "    .dataframe thead th {\n",
       "        text-align: right;\n",
       "    }\n",
       "</style>\n",
       "<table border=\"1\" class=\"dataframe\">\n",
       "  <thead>\n",
       "    <tr style=\"text-align: right;\">\n",
       "      <th></th>\n",
       "      <th>age</th>\n",
       "      <th>sal</th>\n",
       "      <th>name</th>\n",
       "      <th>ph.no</th>\n",
       "    </tr>\n",
       "  </thead>\n",
       "  <tbody>\n",
       "    <tr>\n",
       "      <th>0</th>\n",
       "      <td>21</td>\n",
       "      <td>10000</td>\n",
       "      <td>ay</td>\n",
       "      <td>NaN</td>\n",
       "    </tr>\n",
       "    <tr>\n",
       "      <th>1</th>\n",
       "      <td>22</td>\n",
       "      <td>12000</td>\n",
       "      <td>mn</td>\n",
       "      <td>NaN</td>\n",
       "    </tr>\n",
       "    <tr>\n",
       "      <th>2</th>\n",
       "      <td>21</td>\n",
       "      <td>20000</td>\n",
       "      <td>as</td>\n",
       "      <td>NaN</td>\n",
       "    </tr>\n",
       "  </tbody>\n",
       "</table>\n",
       "</div>"
      ],
      "text/plain": [
       "  age    sal name ph.no\n",
       "0  21  10000   ay   NaN\n",
       "1  22  12000   mn   NaN\n",
       "2  21  20000   as   NaN"
      ]
     },
     "execution_count": 22,
     "metadata": {},
     "output_type": "execute_result"
    }
   ],
   "source": [
    "addCol"
   ]
  },
  {
   "cell_type": "markdown",
   "id": "5cac7925",
   "metadata": {},
   "source": [
    "### Accessing a particular column"
   ]
  },
  {
   "cell_type": "code",
   "execution_count": 23,
   "id": "5452c4cf",
   "metadata": {},
   "outputs": [
    {
     "data": {
      "text/plain": [
       "0    ay\n",
       "1    mn\n",
       "2    as\n",
       "Name: name, dtype: object"
      ]
     },
     "execution_count": 23,
     "metadata": {},
     "output_type": "execute_result"
    }
   ],
   "source": [
    "addCol['name']"
   ]
  },
  {
   "cell_type": "markdown",
   "id": "42b7771f",
   "metadata": {},
   "source": [
    "### ix - get row of x direction"
   ]
  },
  {
   "cell_type": "code",
   "execution_count": 25,
   "id": "30fae018",
   "metadata": {},
   "outputs": [],
   "source": [
    "#addCol.ix[2]"
   ]
  },
  {
   "cell_type": "markdown",
   "id": "04248b97",
   "metadata": {},
   "source": [
    "### iloc - get specific row"
   ]
  },
  {
   "cell_type": "code",
   "execution_count": 26,
   "id": "d9ebe268",
   "metadata": {},
   "outputs": [
    {
     "data": {
      "text/plain": [
       "age         21\n",
       "sal      20000\n",
       "name        as\n",
       "ph.no      NaN\n",
       "Name: 2, dtype: object"
      ]
     },
     "execution_count": 26,
     "metadata": {},
     "output_type": "execute_result"
    }
   ],
   "source": [
    "addCol.iloc[2]"
   ]
  },
  {
   "cell_type": "markdown",
   "id": "285f4a5d",
   "metadata": {},
   "source": [
    "### Transpose"
   ]
  },
  {
   "cell_type": "code",
   "execution_count": 27,
   "id": "86b5e5d0",
   "metadata": {},
   "outputs": [],
   "source": [
    "addCol = addCol.T"
   ]
  },
  {
   "cell_type": "code",
   "execution_count": 28,
   "id": "facce098",
   "metadata": {},
   "outputs": [
    {
     "data": {
      "text/html": [
       "<div>\n",
       "<style scoped>\n",
       "    .dataframe tbody tr th:only-of-type {\n",
       "        vertical-align: middle;\n",
       "    }\n",
       "\n",
       "    .dataframe tbody tr th {\n",
       "        vertical-align: top;\n",
       "    }\n",
       "\n",
       "    .dataframe thead th {\n",
       "        text-align: right;\n",
       "    }\n",
       "</style>\n",
       "<table border=\"1\" class=\"dataframe\">\n",
       "  <thead>\n",
       "    <tr style=\"text-align: right;\">\n",
       "      <th></th>\n",
       "      <th>0</th>\n",
       "      <th>1</th>\n",
       "      <th>2</th>\n",
       "    </tr>\n",
       "  </thead>\n",
       "  <tbody>\n",
       "    <tr>\n",
       "      <th>age</th>\n",
       "      <td>21</td>\n",
       "      <td>22</td>\n",
       "      <td>21</td>\n",
       "    </tr>\n",
       "    <tr>\n",
       "      <th>sal</th>\n",
       "      <td>10000</td>\n",
       "      <td>12000</td>\n",
       "      <td>20000</td>\n",
       "    </tr>\n",
       "    <tr>\n",
       "      <th>name</th>\n",
       "      <td>ay</td>\n",
       "      <td>mn</td>\n",
       "      <td>as</td>\n",
       "    </tr>\n",
       "    <tr>\n",
       "      <th>ph.no</th>\n",
       "      <td>NaN</td>\n",
       "      <td>NaN</td>\n",
       "      <td>NaN</td>\n",
       "    </tr>\n",
       "  </tbody>\n",
       "</table>\n",
       "</div>"
      ],
      "text/plain": [
       "           0      1      2\n",
       "age       21     22     21\n",
       "sal    10000  12000  20000\n",
       "name      ay     mn     as\n",
       "ph.no    NaN    NaN    NaN"
      ]
     },
     "execution_count": 28,
     "metadata": {},
     "output_type": "execute_result"
    }
   ],
   "source": [
    "addCol"
   ]
  },
  {
   "cell_type": "markdown",
   "id": "92a98c1e",
   "metadata": {},
   "source": [
    "#### revert"
   ]
  },
  {
   "cell_type": "code",
   "execution_count": 29,
   "id": "70a9ac26",
   "metadata": {},
   "outputs": [],
   "source": [
    "addCol = addCol.T"
   ]
  },
  {
   "cell_type": "code",
   "execution_count": 30,
   "id": "cb0f1c57",
   "metadata": {},
   "outputs": [
    {
     "data": {
      "text/html": [
       "<div>\n",
       "<style scoped>\n",
       "    .dataframe tbody tr th:only-of-type {\n",
       "        vertical-align: middle;\n",
       "    }\n",
       "\n",
       "    .dataframe tbody tr th {\n",
       "        vertical-align: top;\n",
       "    }\n",
       "\n",
       "    .dataframe thead th {\n",
       "        text-align: right;\n",
       "    }\n",
       "</style>\n",
       "<table border=\"1\" class=\"dataframe\">\n",
       "  <thead>\n",
       "    <tr style=\"text-align: right;\">\n",
       "      <th></th>\n",
       "      <th>age</th>\n",
       "      <th>sal</th>\n",
       "      <th>name</th>\n",
       "      <th>ph.no</th>\n",
       "    </tr>\n",
       "  </thead>\n",
       "  <tbody>\n",
       "    <tr>\n",
       "      <th>0</th>\n",
       "      <td>21</td>\n",
       "      <td>10000</td>\n",
       "      <td>ay</td>\n",
       "      <td>NaN</td>\n",
       "    </tr>\n",
       "    <tr>\n",
       "      <th>1</th>\n",
       "      <td>22</td>\n",
       "      <td>12000</td>\n",
       "      <td>mn</td>\n",
       "      <td>NaN</td>\n",
       "    </tr>\n",
       "    <tr>\n",
       "      <th>2</th>\n",
       "      <td>21</td>\n",
       "      <td>20000</td>\n",
       "      <td>as</td>\n",
       "      <td>NaN</td>\n",
       "    </tr>\n",
       "  </tbody>\n",
       "</table>\n",
       "</div>"
      ],
      "text/plain": [
       "  age    sal name ph.no\n",
       "0  21  10000   ay   NaN\n",
       "1  22  12000   mn   NaN\n",
       "2  21  20000   as   NaN"
      ]
     },
     "execution_count": 30,
     "metadata": {},
     "output_type": "execute_result"
    }
   ],
   "source": [
    "addCol"
   ]
  }
 ],
 "metadata": {
  "kernelspec": {
   "display_name": "Python 3 (ipykernel)",
   "language": "python",
   "name": "python3"
  },
  "language_info": {
   "codemirror_mode": {
    "name": "ipython",
    "version": 3
   },
   "file_extension": ".py",
   "mimetype": "text/x-python",
   "name": "python",
   "nbconvert_exporter": "python",
   "pygments_lexer": "ipython3",
   "version": "3.10.9"
  }
 },
 "nbformat": 4,
 "nbformat_minor": 5
}
