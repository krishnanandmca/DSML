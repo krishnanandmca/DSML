{
 "cells": [
  {
   "cell_type": "markdown",
   "id": "e259e5eb",
   "metadata": {},
   "source": [
    "## Perform Add,Sub,Mul,Div operations on two series"
   ]
  },
  {
   "cell_type": "code",
   "execution_count": 15,
   "id": "d474fbbd",
   "metadata": {},
   "outputs": [],
   "source": [
    "import pandas as pd"
   ]
  },
  {
   "cell_type": "code",
   "execution_count": 16,
   "id": "d54171c0",
   "metadata": {},
   "outputs": [],
   "source": [
    "s1 = pd.Series([1,2,3])"
   ]
  },
  {
   "cell_type": "code",
   "execution_count": 17,
   "id": "05e0cf3f",
   "metadata": {},
   "outputs": [],
   "source": [
    "s2 = pd.Series([4,5,6])"
   ]
  },
  {
   "cell_type": "markdown",
   "id": "9c2c5047",
   "metadata": {},
   "source": [
    "### Sum"
   ]
  },
  {
   "cell_type": "code",
   "execution_count": 18,
   "id": "a6f32303",
   "metadata": {},
   "outputs": [],
   "source": [
    "sumSr = s1+s2"
   ]
  },
  {
   "cell_type": "code",
   "execution_count": 19,
   "id": "f9eea4f8",
   "metadata": {},
   "outputs": [
    {
     "data": {
      "text/plain": [
       "0    5\n",
       "1    7\n",
       "2    9\n",
       "dtype: int64"
      ]
     },
     "execution_count": 19,
     "metadata": {},
     "output_type": "execute_result"
    }
   ],
   "source": [
    "sumSr"
   ]
  },
  {
   "cell_type": "markdown",
   "id": "b3af5919",
   "metadata": {},
   "source": [
    "### Multiply"
   ]
  },
  {
   "cell_type": "code",
   "execution_count": 20,
   "id": "318df8c9",
   "metadata": {},
   "outputs": [],
   "source": [
    "mulSr = s1*s2"
   ]
  },
  {
   "cell_type": "code",
   "execution_count": 21,
   "id": "464f7fd2",
   "metadata": {},
   "outputs": [
    {
     "data": {
      "text/plain": [
       "0     4\n",
       "1    10\n",
       "2    18\n",
       "dtype: int64"
      ]
     },
     "execution_count": 21,
     "metadata": {},
     "output_type": "execute_result"
    }
   ],
   "source": [
    "mulSr"
   ]
  },
  {
   "cell_type": "markdown",
   "id": "3b388c7a",
   "metadata": {},
   "source": [
    "### Subtract"
   ]
  },
  {
   "cell_type": "code",
   "execution_count": 22,
   "id": "0042d869",
   "metadata": {},
   "outputs": [],
   "source": [
    "subSr = s1-s2"
   ]
  },
  {
   "cell_type": "code",
   "execution_count": 23,
   "id": "920db175",
   "metadata": {},
   "outputs": [
    {
     "data": {
      "text/plain": [
       "0   -3\n",
       "1   -3\n",
       "2   -3\n",
       "dtype: int64"
      ]
     },
     "execution_count": 23,
     "metadata": {},
     "output_type": "execute_result"
    }
   ],
   "source": [
    "subSr"
   ]
  },
  {
   "cell_type": "markdown",
   "id": "4928504c",
   "metadata": {},
   "source": [
    "### Division"
   ]
  },
  {
   "cell_type": "code",
   "execution_count": 24,
   "id": "ac092830",
   "metadata": {},
   "outputs": [],
   "source": [
    "divSr = s1/s2"
   ]
  },
  {
   "cell_type": "code",
   "execution_count": 25,
   "id": "2da3567c",
   "metadata": {},
   "outputs": [
    {
     "data": {
      "text/plain": [
       "0    0.25\n",
       "1    0.40\n",
       "2    0.50\n",
       "dtype: float64"
      ]
     },
     "execution_count": 25,
     "metadata": {},
     "output_type": "execute_result"
    }
   ],
   "source": [
    "divSr"
   ]
  }
 ],
 "metadata": {
  "kernelspec": {
   "display_name": "Python 3 (ipykernel)",
   "language": "python",
   "name": "python3"
  },
  "language_info": {
   "codemirror_mode": {
    "name": "ipython",
    "version": 3
   },
   "file_extension": ".py",
   "mimetype": "text/x-python",
   "name": "python",
   "nbconvert_exporter": "python",
   "pygments_lexer": "ipython3",
   "version": "3.10.9"
  }
 },
 "nbformat": 4,
 "nbformat_minor": 5
}
