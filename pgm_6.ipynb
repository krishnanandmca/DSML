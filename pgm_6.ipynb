{
 "cells": [
  {
   "cell_type": "markdown",
   "id": "5acc9554",
   "metadata": {},
   "source": [
    "## Compute the minimum, 25th percentile, medium, 75th, and maximum of a given series"
   ]
  },
  {
   "cell_type": "code",
   "execution_count": 45,
   "id": "38aed42e",
   "metadata": {},
   "outputs": [],
   "source": [
    "import pandas as pd"
   ]
  },
  {
   "cell_type": "code",
   "execution_count": 46,
   "id": "cffd0388",
   "metadata": {},
   "outputs": [],
   "source": [
    "import numpy as np"
   ]
  },
  {
   "cell_type": "code",
   "execution_count": 47,
   "id": "d8679870",
   "metadata": {},
   "outputs": [],
   "source": [
    "rn = np.random.RandomState(100)"
   ]
  },
  {
   "cell_type": "code",
   "execution_count": 48,
   "id": "52655a83",
   "metadata": {},
   "outputs": [],
   "source": [
    "ns = pd.Series(rn.normal(10,4,10))"
   ]
  },
  {
   "cell_type": "code",
   "execution_count": 49,
   "id": "32a4f7d4",
   "metadata": {},
   "outputs": [
    {
     "name": "stdout",
     "output_type": "stream",
     "text": [
      "0     3.000938\n",
      "1    11.370722\n",
      "2    14.612143\n",
      "3     8.990256\n",
      "4    13.925283\n",
      "5    12.056875\n",
      "6    10.884719\n",
      "7     5.719827\n",
      "8     9.242017\n",
      "9    11.020006\n",
      "dtype: float64\n"
     ]
    }
   ],
   "source": [
    "print(ns)"
   ]
  },
  {
   "cell_type": "code",
   "execution_count": 53,
   "id": "9354d17e",
   "metadata": {},
   "outputs": [],
   "source": [
    "res = np.percentile(ns,q=[0,25,50,75,100])"
   ]
  },
  {
   "cell_type": "code",
   "execution_count": 56,
   "id": "22da3e4e",
   "metadata": {},
   "outputs": [
    {
     "name": "stdout",
     "output_type": "stream",
     "text": [
      "[ 3.00093811  9.05319606 10.95236223 11.88533693 14.61214321]\n"
     ]
    }
   ],
   "source": [
    "print(res)"
   ]
  },
  {
   "cell_type": "code",
   "execution_count": null,
   "id": "bc714135",
   "metadata": {},
   "outputs": [],
   "source": []
  }
 ],
 "metadata": {
  "kernelspec": {
   "display_name": "Python 3 (ipykernel)",
   "language": "python",
   "name": "python3"
  },
  "language_info": {
   "codemirror_mode": {
    "name": "ipython",
    "version": 3
   },
   "file_extension": ".py",
   "mimetype": "text/x-python",
   "name": "python",
   "nbconvert_exporter": "python",
   "pygments_lexer": "ipython3",
   "version": "3.10.9"
  }
 },
 "nbformat": 4,
 "nbformat_minor": 5
}
