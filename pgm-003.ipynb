{
 "cells": [
  {
   "cell_type": "code",
   "execution_count": 1,
   "id": "9ec8f27a",
   "metadata": {},
   "outputs": [],
   "source": [
    "import pandas as pd"
   ]
  },
  {
   "cell_type": "code",
   "execution_count": 2,
   "id": "60feeb83",
   "metadata": {},
   "outputs": [],
   "source": [
    "dr = {'a':'one','b':'two','c':'three','d':'four','e':'five'}"
   ]
  },
  {
   "cell_type": "markdown",
   "id": "fec7030d",
   "metadata": {},
   "source": [
    "### Converting dictionary to series"
   ]
  },
  {
   "cell_type": "code",
   "execution_count": 4,
   "id": "b7e96a47",
   "metadata": {},
   "outputs": [
    {
     "name": "stdout",
     "output_type": "stream",
     "text": [
      "a      one\n",
      "b      two\n",
      "c    three\n",
      "d     four\n",
      "e     five\n",
      "dtype: object\n"
     ]
    }
   ],
   "source": [
    "print(pd.Series(dr))"
   ]
  }
 ],
 "metadata": {
  "kernelspec": {
   "display_name": "Python 3 (ipykernel)",
   "language": "python",
   "name": "python3"
  },
  "language_info": {
   "codemirror_mode": {
    "name": "ipython",
    "version": 3
   },
   "file_extension": ".py",
   "mimetype": "text/x-python",
   "name": "python",
   "nbconvert_exporter": "python",
   "pygments_lexer": "ipython3",
   "version": "3.10.9"
  }
 },
 "nbformat": 4,
 "nbformat_minor": 5
}
