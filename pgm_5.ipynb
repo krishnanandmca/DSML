{
 "cells": [
  {
   "cell_type": "markdown",
   "id": "1f7654f6",
   "metadata": {},
   "source": [
    "# WAP to find mean and Standard Deviation of a given series"
   ]
  },
  {
   "cell_type": "code",
   "execution_count": 6,
   "id": "44ed0136",
   "metadata": {},
   "outputs": [],
   "source": [
    "from pandas import Series"
   ]
  },
  {
   "cell_type": "code",
   "execution_count": 7,
   "id": "288b7461",
   "metadata": {},
   "outputs": [],
   "source": [
    "sr = Series([2,3,4,6,7,8,1,5,9,4])"
   ]
  },
  {
   "cell_type": "code",
   "execution_count": 8,
   "id": "5822f476",
   "metadata": {},
   "outputs": [
    {
     "name": "stdout",
     "output_type": "stream",
     "text": [
      "0    2\n",
      "1    3\n",
      "2    4\n",
      "3    6\n",
      "4    7\n",
      "5    8\n",
      "6    1\n",
      "7    5\n",
      "8    9\n",
      "9    4\n",
      "dtype: int64\n"
     ]
    }
   ],
   "source": [
    "print(sr)"
   ]
  },
  {
   "cell_type": "markdown",
   "id": "75c917d4",
   "metadata": {},
   "source": [
    "#### Find Mean"
   ]
  },
  {
   "cell_type": "code",
   "execution_count": 11,
   "id": "0b97cf0e",
   "metadata": {},
   "outputs": [
    {
     "name": "stdout",
     "output_type": "stream",
     "text": [
      "4.9\n"
     ]
    }
   ],
   "source": [
    "print(sr.mean())"
   ]
  },
  {
   "cell_type": "markdown",
   "id": "128ad527",
   "metadata": {},
   "source": [
    "#### Find Standard Deviation"
   ]
  },
  {
   "cell_type": "code",
   "execution_count": 10,
   "id": "45bbc1a2",
   "metadata": {},
   "outputs": [
    {
     "data": {
      "text/plain": [
       "2.601281735350223"
      ]
     },
     "execution_count": 10,
     "metadata": {},
     "output_type": "execute_result"
    }
   ],
   "source": [
    "sr.std()"
   ]
  }
 ],
 "metadata": {
  "kernelspec": {
   "display_name": "Python 3 (ipykernel)",
   "language": "python",
   "name": "python3"
  },
  "language_info": {
   "codemirror_mode": {
    "name": "ipython",
    "version": 3
   },
   "file_extension": ".py",
   "mimetype": "text/x-python",
   "name": "python",
   "nbconvert_exporter": "python",
   "pygments_lexer": "ipython3",
   "version": "3.10.9"
  }
 },
 "nbformat": 4,
 "nbformat_minor": 5
}
