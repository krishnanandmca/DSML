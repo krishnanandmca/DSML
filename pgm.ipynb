{
 "cells": [
  {
   "cell_type": "markdown",
   "id": "2ad36696",
   "metadata": {},
   "source": [
    "## 001-Series to list conversion"
   ]
  },
  {
   "cell_type": "code",
   "execution_count": 11,
   "id": "fa08ff6d",
   "metadata": {},
   "outputs": [],
   "source": [
    "import pandas as pd"
   ]
  },
  {
   "cell_type": "code",
   "execution_count": 12,
   "id": "06dc9043",
   "metadata": {},
   "outputs": [],
   "source": [
    "sr = pd.Series({\"a\":\"one\",\"b\":\"two\",\"c\":\"three\",\"d\":\"four\", \"e\":\"five\"})"
   ]
  },
  {
   "cell_type": "code",
   "execution_count": 13,
   "id": "391b6012",
   "metadata": {},
   "outputs": [
    {
     "data": {
      "text/plain": [
       "a      one\n",
       "b      two\n",
       "c    three\n",
       "d     four\n",
       "e     five\n",
       "dtype: object"
      ]
     },
     "execution_count": 13,
     "metadata": {},
     "output_type": "execute_result"
    }
   ],
   "source": [
    "sr"
   ]
  },
  {
   "cell_type": "code",
   "execution_count": 14,
   "id": "c1d32341",
   "metadata": {},
   "outputs": [],
   "source": [
    "lst = sr.tolist();"
   ]
  },
  {
   "cell_type": "code",
   "execution_count": 15,
   "id": "dcfa6151",
   "metadata": {},
   "outputs": [
    {
     "data": {
      "text/plain": [
       "['one', 'two', 'three', 'four', 'five']"
      ]
     },
     "execution_count": 15,
     "metadata": {},
     "output_type": "execute_result"
    }
   ],
   "source": [
    "lst"
   ]
  },
  {
   "cell_type": "code",
   "execution_count": 16,
   "id": "f766ec51",
   "metadata": {},
   "outputs": [
    {
     "data": {
      "text/plain": [
       "list"
      ]
     },
     "execution_count": 16,
     "metadata": {},
     "output_type": "execute_result"
    }
   ],
   "source": [
    "type(lst)"
   ]
  },
  {
   "cell_type": "code",
   "execution_count": null,
   "id": "4dc7b9a0",
   "metadata": {},
   "outputs": [],
   "source": [
    "#"
   ]
  }
 ],
 "metadata": {
  "kernelspec": {
   "display_name": "Python 3 (ipykernel)",
   "language": "python",
   "name": "python3"
  },
  "language_info": {
   "codemirror_mode": {
    "name": "ipython",
    "version": 3
   },
   "file_extension": ".py",
   "mimetype": "text/x-python",
   "name": "python",
   "nbconvert_exporter": "python",
   "pygments_lexer": "ipython3",
   "version": "3.10.9"
  }
 },
 "nbformat": 4,
 "nbformat_minor": 5
}
