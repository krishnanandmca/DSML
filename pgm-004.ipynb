{
 "cells": [
  {
   "cell_type": "code",
   "execution_count": 1,
   "id": "4ad9ac38",
   "metadata": {},
   "outputs": [],
   "source": [
    "import pandas as pd"
   ]
  },
  {
   "cell_type": "code",
   "execution_count": 5,
   "id": "c4a1ba9e",
   "metadata": {},
   "outputs": [],
   "source": [
    "dr = {'d':'four','a':'one','e':'five','b':'two','c':'three'}"
   ]
  },
  {
   "cell_type": "code",
   "execution_count": 6,
   "id": "63b02eca",
   "metadata": {},
   "outputs": [
    {
     "data": {
      "text/plain": [
       "a      one\n",
       "b      two\n",
       "c    three\n",
       "d     four\n",
       "e     five\n",
       "dtype: object"
      ]
     },
     "execution_count": 6,
     "metadata": {},
     "output_type": "execute_result"
    }
   ],
   "source": [
    "pd.Series(dr).sort_index()"
   ]
  }
 ],
 "metadata": {
  "kernelspec": {
   "display_name": "Python 3 (ipykernel)",
   "language": "python",
   "name": "python3"
  },
  "language_info": {
   "codemirror_mode": {
    "name": "ipython",
    "version": 3
   },
   "file_extension": ".py",
   "mimetype": "text/x-python",
   "name": "python",
   "nbconvert_exporter": "python",
   "pygments_lexer": "ipython3",
   "version": "3.10.9"
  }
 },
 "nbformat": 4,
 "nbformat_minor": 5
}
